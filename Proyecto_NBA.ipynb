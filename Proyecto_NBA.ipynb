{
 "cells": [
  {
   "cell_type": "markdown",
   "metadata": {},
   "source": [
    "# **Análisis de la temporada 2019-2020 de la NBA para LAL, LAC, DEN, HOU.** \n",
    "---\n",
    "<img src=\"logoNBA.png\" width=700 height=900 /> </img>"
   ]
  },
  {
   "cell_type": "markdown",
   "metadata": {},
   "source": [
    "## Importando librerias y cargando los datos a usar obtenidos en https://www.kaggle.com/schmadam97/nba-playbyplay-data-20182019?select=NBA_PBP_2019-20.csv"
   ]
  },
  {
   "cell_type": "code",
   "execution_count": 1,
   "metadata": {},
   "outputs": [],
   "source": [
    "import numpy as np #Librería numérica\n",
    "import pandas as pd #librería para el análisis y manipulación de datos\n",
    "import matplotlib.pyplot as plt #Librería gráfica\n",
    "import seaborn as sns #Librería gráfica de complementación"
   ]
  },
  {
   "cell_type": "code",
   "execution_count": 2,
   "metadata": {},
   "outputs": [],
   "source": [
    "df_original=pd.read_csv('NBA_PBP_2019-20.csv') # Archivo descargado previamente en el pc"
   ]
  },
  {
   "cell_type": "markdown",
   "metadata": {},
   "source": [
    "### Definiendo unas funciones que serán de utilidad después a la hora de graficar:"
   ]
  },
  {
   "cell_type": "code",
   "execution_count": 163,
   "metadata": {},
   "outputs": [],
   "source": [
    "def with_hue(plot, feature, Number_of_categories, hue_categories):\n",
    "    a = [p.get_height() for p in plot.patches]\n",
    "    patch = [p for p in plot.patches]\n",
    "    for i in range(Number_of_categories):\n",
    "        total = feature.value_counts().values[i]\n",
    "        for j in range(hue_categories):\n",
    "            percentage = '{:.1f}%'.format(100 * a[(j*Number_of_categories + i)]/total)\n",
    "            x = patch[(j*Number_of_categories + i)].get_x() + patch[(j*Number_of_categories + i)].get_width() / 2 -0.07\n",
    "            y = patch[(j*Number_of_categories + i)].get_y() + patch[(j*Number_of_categories + i)].get_height() +2\n",
    "            ax.annotate(percentage, (x, y), size = 14)\n",
    "    plt.show()\n",
    "\n",
    "def without_hue(plot, feature):\n",
    "    total = len(feature)\n",
    "    for p in plot.patches:\n",
    "        percentage = '{:.1f}%'.format(100 * p.get_height()/total)\n",
    "        x = p.get_x() + p.get_width() / 2 - 0.05\n",
    "        y = p.get_y() + p.get_height() +5\n",
    "        ax.annotate(percentage, (x, y), size = 14)\n",
    "    plt.show()"
   ]
  },
  {
   "cell_type": "markdown",
   "metadata": {},
   "source": [
    "### Viendo información y las columnas del DataFrame original:"
   ]
  },
  {
   "cell_type": "code",
   "execution_count": 3,
   "metadata": {},
   "outputs": [
    {
     "name": "stdout",
     "output_type": "stream",
     "text": [
      "<class 'pandas.core.frame.DataFrame'>\n",
      "RangeIndex: 539265 entries, 0 to 539264\n",
      "Data columns (total 41 columns):\n",
      " #   Column              Non-Null Count   Dtype  \n",
      "---  ------              --------------   -----  \n",
      " 0   URL                 539265 non-null  object \n",
      " 1   GameType            539265 non-null  object \n",
      " 2   Location            539265 non-null  object \n",
      " 3   Date                539265 non-null  object \n",
      " 4   Time                539265 non-null  object \n",
      " 5   WinningTeam         539265 non-null  object \n",
      " 6   Quarter             539265 non-null  int64  \n",
      " 7   SecLeft             539265 non-null  int64  \n",
      " 8   AwayTeam            539265 non-null  object \n",
      " 9   AwayPlay            272389 non-null  object \n",
      " 10  AwayScore           539265 non-null  int64  \n",
      " 11  HomeTeam            539265 non-null  object \n",
      " 12  HomePlay            266868 non-null  object \n",
      " 13  HomeScore           539265 non-null  int64  \n",
      " 14  Shooter             202397 non-null  object \n",
      " 15  ShotType            202397 non-null  object \n",
      " 16  ShotOutcome         202397 non-null  object \n",
      " 17  ShotDist            202397 non-null  float64\n",
      " 18  Assister            55495 non-null   object \n",
      " 19  Blocker             11098 non-null   object \n",
      " 20  FoulType            48664 non-null   object \n",
      " 21  Fouler              48664 non-null   object \n",
      " 22  Fouled              47615 non-null   object \n",
      " 23  Rebounder           121284 non-null  object \n",
      " 24  ReboundType         121284 non-null  object \n",
      " 25  ViolationPlayer     1980 non-null    object \n",
      " 26  ViolationType       1980 non-null    object \n",
      " 27  TimeoutTeam         12748 non-null   object \n",
      " 28  FreeThrowShooter    52970 non-null   object \n",
      " 29  FreeThrowOutcome    52970 non-null   object \n",
      " 30  FreeThrowNum        52970 non-null   object \n",
      " 31  EnterGame           55748 non-null   object \n",
      " 32  LeaveGame           55748 non-null   object \n",
      " 33  TurnoverPlayer      33067 non-null   object \n",
      " 34  TurnoverType        33123 non-null   object \n",
      " 35  TurnoverCause       17386 non-null   object \n",
      " 36  TurnoverCauser      17386 non-null   object \n",
      " 37  JumpballAwayPlayer  1998 non-null    object \n",
      " 38  JumpballHomePlayer  1998 non-null    object \n",
      " 39  JumpballPoss        1998 non-null    object \n",
      " 40  Unnamed: 40         0 non-null       float64\n",
      "dtypes: float64(2), int64(4), object(35)\n",
      "memory usage: 168.7+ MB\n"
     ]
    }
   ],
   "source": [
    "df_original.info()"
   ]
  },
  {
   "cell_type": "markdown",
   "metadata": {},
   "source": [
    "### Dado a que cada evento es único se procede a eliminar las filas que sean completamente iguales debido a posibles errores de digitación:"
   ]
  },
  {
   "cell_type": "code",
   "execution_count": 4,
   "metadata": {},
   "outputs": [],
   "source": [
    "df_sin_duplicados= df_original.drop_duplicates()"
   ]
  },
  {
   "cell_type": "markdown",
   "metadata": {},
   "source": [
    "### Selecionando solamente los partidos regulares y las columnas necesarias para el análisis:"
   ]
  },
  {
   "cell_type": "code",
   "execution_count": 5,
   "metadata": {},
   "outputs": [
    {
     "name": "stdout",
     "output_type": "stream",
     "text": [
      "<class 'pandas.core.frame.DataFrame'>\n",
      "RangeIndex: 500291 entries, 0 to 500290\n",
      "Data columns (total 13 columns):\n",
      " #   Column       Non-Null Count   Dtype  \n",
      "---  ------       --------------   -----  \n",
      " 0   Date         500291 non-null  object \n",
      " 1   WinningTeam  500291 non-null  object \n",
      " 2   Quarter      500291 non-null  int64  \n",
      " 3   SecLeft      500291 non-null  int64  \n",
      " 4   AwayTeam     500291 non-null  object \n",
      " 5   AwayPlay     252693 non-null  object \n",
      " 6   AwayScore    500291 non-null  int64  \n",
      " 7   HomeTeam     500291 non-null  object \n",
      " 8   HomePlay     247590 non-null  object \n",
      " 9   HomeScore    500291 non-null  int64  \n",
      " 10  ShotType     188268 non-null  object \n",
      " 11  ShotOutcome  188268 non-null  object \n",
      " 12  ShotDist     188268 non-null  float64\n",
      "dtypes: float64(1), int64(4), object(8)\n",
      "memory usage: 49.6+ MB\n"
     ]
    }
   ],
   "source": [
    "df_sin_duplicados=df_sin_duplicados[df_sin_duplicados['GameType']=='regular']\n",
    "\n",
    "Columnas = ['Date','WinningTeam','Quarter','SecLeft','AwayTeam','AwayPlay','AwayScore',\n",
    "            'HomeTeam','HomePlay','HomeScore','ShotType','ShotOutcome','ShotDist']\n",
    "\n",
    "df=df_sin_duplicados[Columnas] \n",
    "df=df.reset_index()\n",
    "df=df.drop(columns=['index'])\n",
    "df.info()"
   ]
  },
  {
   "cell_type": "markdown",
   "metadata": {},
   "source": [
    "### Se ve entonces que se pasaron de tener 539265 a 500291 filas y 13 columnas.\n",
    "### Ahora, asignando 1 cuando gana LAL y 0 al caso contrario:"
   ]
  },
  {
   "cell_type": "code",
   "execution_count": 7,
   "metadata": {},
   "outputs": [],
   "source": [
    "df['WinningTeam'].replace({'LAL': 1, 'LAC': 0}, inplace=True)\n",
    "df['WinningTeam'].replace({'DEN': 0, 'HOU': 0}, inplace=True)"
   ]
  },
  {
   "cell_type": "markdown",
   "metadata": {},
   "source": [
    "# Categorizando "
   ]
  },
  {
   "cell_type": "markdown",
   "metadata": {},
   "source": [
    "## Los Angeles Lakers (LAL) de local:"
   ]
  },
  {
   "cell_type": "code",
   "execution_count": 8,
   "metadata": {},
   "outputs": [
    {
     "name": "stdout",
     "output_type": "stream",
     "text": [
      "Hubieron en total 5 partidos donde LAL fue local\n"
     ]
    }
   ],
   "source": [
    "dfl_LAL=df[df['HomeTeam']=='LAL']\n",
    "dfv_LAC=df[df['AwayTeam']=='LAC']\n",
    "dfv_DEN=df[df['AwayTeam']=='DEN']\n",
    "dfv_HOU=df[df['AwayTeam']=='HOU']\n",
    "\n",
    "dfl_LAL_LAC=pd.merge(dfl_LAL, dfv_LAC, how='inner')\n",
    "dfl_LAL_DEN=pd.merge(dfl_LAL, dfv_DEN, how='inner')\n",
    "dfl_LAL_HOU=pd.merge(dfl_LAL, dfv_HOU, how='inner')\n",
    "\n",
    "dfL_LAL1=pd.concat([dfl_LAL_LAC,dfl_LAL_DEN])\n",
    "dfL_LAL=pd.concat([dfL_LAL1,dfl_LAL_HOU])\n",
    "\n",
    "num_local=dfL_LAL['Date'].nunique()\n",
    "print(f'Hubieron en total {num_local} partidos donde LAL fue local')"
   ]
  },
  {
   "cell_type": "markdown",
   "metadata": {},
   "source": [
    "### Probabilidad de que LAL gane de local:"
   ]
  },
  {
   "cell_type": "code",
   "execution_count": 166,
   "metadata": {},
   "outputs": [
    {
     "data": {
      "image/png": "[encoded data removed]",
      "text/plain": [
       "<Figure size 720x504 with 1 Axes>"
      ]
     },
     "metadata": {
      "needs_background": "light"
     },
     "output_type": "display_data"
    }
   ],
   "source": [
    "P_W_L=np.round(dfL_LAL['WinningTeam'].mean(),3) \n",
    "\n",
    "plt.figure(figsize=(10,7))\n",
    "ax=sns.countplot(x='WinningTeam',data=dfL_LAL,palette='bright')\n",
    "plt.xticks(size=14)\n",
    "plt.yticks(size=14)\n",
    "plt.ylabel('count',size=14)\n",
    "plt.xlabel('WinningTeam',size=14)\n",
    "without_hue(ax,dfL_LAL.WinningTeam)"
   ]
  },
  {
   "cell_type": "markdown",
   "metadata": {},
   "source": [
    "### Cestas hechas y erradas de los equipos visitantes:"
   ]
  },
  {
   "cell_type": "code",
   "execution_count": 159,
   "metadata": {},
   "outputs": [
    {
     "data": {
      "image/png": "[encoded data removed]",
      "text/plain": [
       "<Figure size 720x504 with 1 Axes>"
      ]
     },
     "metadata": {
      "needs_background": "light"
     },
     "output_type": "display_data"
    }
   ],
   "source": [
    "plt.figure(figsize=(10,7))\n",
    "ax=sns.countplot(x='ShotOutcome',data=dfL_LAL,hue='AwayTeam',palette='bright')\n",
    "plt.xticks(size=14)\n",
    "plt.yticks(size=14)\n",
    "plt.ylabel('count',size=14)\n",
    "plt.xlabel('ShotOutcome',size=14)\n",
    "with_hue(ax,dfL_LAL.ShotOutcome,2,3)"
   ]
  },
  {
   "cell_type": "markdown",
   "metadata": {},
   "source": [
    "### Probabilidad de acierto en cestas:"
   ]
  },
  {
   "cell_type": "code",
   "execution_count": 111,
   "metadata": {},
   "outputs": [
    {
     "data": {
      "image/png": "[encoded data removed]",
      "text/plain": [
       "<Figure size 432x288 with 1 Axes>"
      ]
     },
     "metadata": {
      "needs_background": "light"
     },
     "output_type": "display_data"
    }
   ],
   "source": [
    "sns.countplot(x='ShotOutcome',data=dfL_LAL);"
   ]
  },
  {
   "cell_type": "markdown",
   "metadata": {},
   "source": [
    "## Los Angeles Lakers (LAL) de visitante:"
   ]
  },
  {
   "cell_type": "code",
   "execution_count": 168,
   "metadata": {},
   "outputs": [
    {
     "name": "stdout",
     "output_type": "stream",
     "text": [
      "Hubieron en total 6 partidos donde LAL fue visitante\n"
     ]
    }
   ],
   "source": [
    "dfv_LAL=df[df['AwayTeam']=='LAL']\n",
    "dfl_LAC=df[df['HomeTeam']=='LAC']\n",
    "dfl_DEN=df[df['HomeTeam']=='DEN']\n",
    "dfl_HOU=df[df['HomeTeam']=='HOU']\n",
    "\n",
    "dfv_LAL_LAC=pd.merge(dfv_LAL, dfl_LAC, how='inner')\n",
    "dfv_LAL_DEN=pd.merge(dfv_LAL, dfl_DEN, how='inner')\n",
    "dfv_LAL_HOU=pd.merge(dfv_LAL, dfl_HOU, how='inner')\n",
    "\n",
    "dfV_LAL1=pd.concat([dfv_LAL_LAC,dfv_LAL_DEN])\n",
    "dfV_LAL=pd.concat([dfV_LAL1,dfv_LAL_HOU])\n",
    "\n",
    "num_visitante=dfV_LAL['Date'].nunique()\n",
    "print(f'Hubieron en total {num_visitante} partidos donde LAL fue visitante')"
   ]
  },
  {
   "cell_type": "markdown",
   "metadata": {},
   "source": [
    "### Probabilidad de que LAL gane de visitante:"
   ]
  },
  {
   "cell_type": "code",
   "execution_count": 64,
   "metadata": {},
   "outputs": [
    {
     "name": "stdout",
     "output_type": "stream",
     "text": [
      "0.6793737236215113\n"
     ]
    },
    {
     "data": {
      "image/png": "[encoded data removed]",
      "text/plain": [
       "<Figure size 432x288 with 1 Axes>"
      ]
     },
     "metadata": {
      "needs_background": "light"
     },
     "output_type": "display_data"
    }
   ],
   "source": [
    "P_W_V=dfV_LAL['WinningTeam'].mean() \n",
    "print(P_W_V)\n",
    "sns.countplot(x='WinningTeam',data=dfV_LAL,palette='bright'); # Recuerde que 1 corresponde a LAL"
   ]
  },
  {
   "cell_type": "markdown",
   "metadata": {},
   "source": [
    "### Cestas hechas y erradas de los equipos locales:"
   ]
  },
  {
   "cell_type": "code",
   "execution_count": 173,
   "metadata": {},
   "outputs": [
    {
     "data": {
      "image/png": "[encoded data removed]",
      "text/plain": [
       "<Figure size 720x504 with 1 Axes>"
      ]
     },
     "metadata": {
      "needs_background": "light"
     },
     "output_type": "display_data"
    }
   ],
   "source": [
    "plt.figure(figsize=(10,7))\n",
    "ax=sns.countplot(x='ShotOutcome',data=dfV_LAL,hue='HomeTeam',palette='bright')\n",
    "plt.xticks(size=14)\n",
    "plt.yticks(size=14)\n",
    "plt.ylabel('count',size=14)\n",
    "plt.xlabel('ShotOutcome',size=14)\n",
    "with_hue(ax,dfV_LAL.ShotOutcome,2,3)"
   ]
  },
  {
   "cell_type": "markdown",
   "metadata": {},
   "source": [
    "## Partidos totales de LAL:"
   ]
  },
  {
   "cell_type": "code",
   "execution_count": 10,
   "metadata": {},
   "outputs": [
    {
     "name": "stdout",
     "output_type": "stream",
     "text": [
      "<class 'pandas.core.frame.DataFrame'>\n",
      "RangeIndex: 5265 entries, 0 to 5264\n",
      "Data columns (total 13 columns):\n",
      " #   Column       Non-Null Count  Dtype  \n",
      "---  ------       --------------  -----  \n",
      " 0   Date         5265 non-null   object \n",
      " 1   WinningTeam  5265 non-null   object \n",
      " 2   Quarter      5265 non-null   int64  \n",
      " 3   SecLeft      5265 non-null   int64  \n",
      " 4   AwayTeam     5265 non-null   object \n",
      " 5   AwayPlay     2710 non-null   object \n",
      " 6   AwayScore    5265 non-null   int64  \n",
      " 7   HomeTeam     5265 non-null   object \n",
      " 8   HomePlay     2554 non-null   object \n",
      " 9   HomeScore    5265 non-null   int64  \n",
      " 10  ShotType     1885 non-null   object \n",
      " 11  ShotOutcome  1885 non-null   object \n",
      " 12  ShotDist     1885 non-null   float64\n",
      "dtypes: float64(1), int64(4), object(8)\n",
      "memory usage: 534.9+ KB\n"
     ]
    }
   ],
   "source": [
    "df_LAL=pd.concat([dfL_LAL,dfV_LAL])\n",
    "df_LAL=df_LAL.reset_index()  #redefiniendo la cuenta del índice de cada fila\n",
    "df_LAL=df_LAL.drop(columns=['index'])\n",
    "num=df_LAL['Date'].nunique()\n",
    "df_LAL.info()"
   ]
  },
  {
   "cell_type": "markdown",
   "metadata": {},
   "source": [
    "### Probabilidad de que en general LAL gane:"
   ]
  },
  {
   "cell_type": "code",
   "execution_count": 49,
   "metadata": {},
   "outputs": [
    {
     "name": "stdout",
     "output_type": "stream",
     "text": [
      "0.5542260208926876\n"
     ]
    },
    {
     "data": {
      "image/png": "[encoded data removed]",
      "text/plain": [
       "<Figure size 432x288 with 1 Axes>"
      ]
     },
     "metadata": {
      "needs_background": "light"
     },
     "output_type": "display_data"
    }
   ],
   "source": [
    "P_W=df_LAL['WinningTeam'].mean()\n",
    "print(P_W)\n",
    "sns.countplot(x='WinningTeam',data=df_LAL); # Recuerde que 1 corresponde a LAL"
   ]
  },
  {
   "cell_type": "markdown",
   "metadata": {},
   "source": [
    "## Por ejemplo, viendo las cestas hechas  "
   ]
  },
  {
   "cell_type": "markdown",
   "metadata": {},
   "source": [
    "### LAL de locales:"
   ]
  },
  {
   "cell_type": "code",
   "execution_count": 51,
   "metadata": {},
   "outputs": [
    {
     "data": {
      "image/png": "[encoded data removed]",
      "text/plain": [
       "<Figure size 432x288 with 1 Axes>"
      ]
     },
     "metadata": {
      "needs_background": "light"
     },
     "output_type": "display_data"
    }
   ],
   "source": [
    "sns.countplot(x='ShotOutcome',data=dfL_LAL,hue='WinningTeam');"
   ]
  },
  {
   "cell_type": "markdown",
   "metadata": {},
   "source": [
    "### LAL de visitantes:"
   ]
  },
  {
   "cell_type": "code",
   "execution_count": 32,
   "metadata": {},
   "outputs": [
    {
     "data": {
      "image/png": "[encoded data removed]",
      "text/plain": [
       "<Figure size 432x288 with 1 Axes>"
      ]
     },
     "metadata": {
      "needs_background": "light"
     },
     "output_type": "display_data"
    }
   ],
   "source": [
    "sns.countplot(x='WinningTeam',data=dfV_LAL);"
   ]
  },
  {
   "cell_type": "markdown",
   "metadata": {},
   "source": [
    "## En general:"
   ]
  },
  {
   "cell_type": "code",
   "execution_count": 15,
   "metadata": {},
   "outputs": [
    {
     "data": {
      "image/png": "[encoded data removed]",
      "text/plain": [
       "<Figure size 432x288 with 1 Axes>"
      ]
     },
     "metadata": {
      "needs_background": "light"
     },
     "output_type": "display_data"
    }
   ],
   "source": [
    "sns.countplot(x='WinningTeam',data=df_LAL);"
   ]
  },
  {
   "cell_type": "code",
   "execution_count": 16,
   "metadata": {},
   "outputs": [
    {
     "data": {
      "text/plain": [
       "1    2918\n",
       "0    2347\n",
       "Name: WinningTeam, dtype: int64"
      ]
     },
     "execution_count": 16,
     "metadata": {},
     "output_type": "execute_result"
    }
   ],
   "source": [
    "df_LAL['WinningTeam'].value_counts()"
   ]
  },
  {
   "cell_type": "code",
   "execution_count": 17,
   "metadata": {},
   "outputs": [
    {
     "data": {
      "text/plain": [
       "array(['December 25 2019', 'July 30 2020', 'December 22 2019',\n",
       "       'August 10 2020', 'February 6 2020', 'October 22 2019',\n",
       "       'March 8 2020', 'December 3 2019', 'February 12 2020',\n",
       "       'January 18 2020', 'August 6 2020'], dtype=object)"
      ]
     },
     "execution_count": 17,
     "metadata": {},
     "output_type": "execute_result"
    }
   ],
   "source": [
    "df_LAL['Date'].unique()"
   ]
  },
  {
   "cell_type": "code",
   "execution_count": 174,
   "metadata": {},
   "outputs": [],
   "source": [
    "def barPerc(df,xVar,ax):\n",
    "    '''\n",
    "    barPerc(): Add percentage for hues to bar plots\n",
    "    args:\n",
    "        df: pandas dataframe\n",
    "        xVar: (string) X variable \n",
    "        ax: Axes object (for Seaborn Countplot/Bar plot or\n",
    "                         pandas bar plot)\n",
    "    '''\n",
    "    # 1. how many X categories\n",
    "    ##   check for NaN and remove\n",
    "    numX=len([x for x in df[xVar].unique() if x==x])\n",
    "\n",
    "    # 2. The bars are created in hue order, organize them\n",
    "    bars = ax.patches\n",
    "    ## 2a. For each X variable\n",
    "    for ind in range(numX):\n",
    "        ## 2b. Get every hue bar\n",
    "        ##     ex. 8 X categories, 4 hues =>\n",
    "        ##    [0, 8, 16, 24] are hue bars for 1st X category\n",
    "        hueBars=bars[ind:][::numX]\n",
    "        ## 2c. Get the total height (for percentages)\n",
    "        total = sum([x.get_height() for x in hueBars])\n",
    "\n",
    "        # 3. Print the percentage on the bars\n",
    "        for bar in hueBars:\n",
    "            ax.text(bar.get_x() + bar.get_width()/2.,\n",
    "                    bar.get_height(),\n",
    "                    f'{bar.get_height()/total:.0%}',\n",
    "                    ha=\"center\",va=\"bottom\")\n"
   ]
  },
  {
   "cell_type": "code",
   "execution_count": 176,
   "metadata": {},
   "outputs": [
    {
     "data": {
      "image/png": "[encoded data removed]",
      "text/plain": [
       "<Figure size 1080x648 with 1 Axes>"
      ]
     },
     "metadata": {
      "needs_background": "light"
     },
     "output_type": "display_data"
    }
   ],
   "source": [
    "plt.figure(figsize=[15,9])\n",
    "ax=sns.countplot(x='ShotOutcome',data=dfV_LAL,hue='HomeTeam',palette='bright')\n",
    "barPerc(dfV_LAL,'ShotOutcome',ax)"
   ]
  },
  {
   "cell_type": "code",
   "execution_count": 179,
   "metadata": {},
   "outputs": [
    {
     "data": {
      "image/png": "[encoded data removed]",
      "text/plain": [
       "<Figure size 1080x648 with 1 Axes>"
      ]
     },
     "metadata": {
      "needs_background": "light"
     },
     "output_type": "display_data"
    }
   ],
   "source": [
    "plt.figure(figsize=[15,9])\n",
    "ax=sns.countplot(x='ShotOutcome',data=dfL_LAL,hue='AwayTeam',palette='bright')\n",
    "barPerc(dfL_LAL,'ShotOutcome',ax)"
   ]
  },
  {
   "cell_type": "code",
   "execution_count": null,
   "metadata": {},
   "outputs": [],
   "source": []
  }
 ],
 "metadata": {
  "kernelspec": {
   "display_name": "Python 3",
   "language": "python",
   "name": "python3"
  },
  "language_info": {
   "codemirror_mode": {
    "name": "ipython",
    "version": 3
   },
   "file_extension": ".py",
   "mimetype": "text/x-python",
   "name": "python",
   "nbconvert_exporter": "python",
   "pygments_lexer": "ipython3",
   "version": "3.7.7"
  }
 },
 "nbformat": 4,
 "nbformat_minor": 4
}
