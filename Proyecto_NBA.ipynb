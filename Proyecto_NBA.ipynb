{
 "cells": [
  {
   "cell_type": "markdown",
   "metadata": {},
   "source": [
    "# **Análisis de la temporada 2020-21 de la NBA para Los Angeles Lakers (LAL)** \n",
    "---\n",
    "<img src=\"logoNBA.png\" width=700 height=900 /> "
   ]
  },
  {
   "cell_type": "markdown",
   "metadata": {},
   "source": [
    "## Importando librerias y cargando los datos a usar obtenidos en https://www.kaggle.com/schmadam97/nba-playbyplay-data-20182019?select=NBA_PBP_2020-21.csv"
   ]
  },
  {
   "cell_type": "code",
   "execution_count": 1,
   "metadata": {},
   "outputs": [],
   "source": [
    "import numpy as np #Librería numérica\n",
    "import pandas as pd #librería para el análisis y manipulación de datos\n",
    "import matplotlib as mpl\n",
    "from matplotlib import pyplot as plt #Librería gráfica\n",
    "import seaborn as sns #Librería gráfica de complementación\n",
    "from simple_colors import * #Imprimir con colores\n",
    "from scipy.integrate import quad #Calcular integrales"
   ]
  },
  {
   "cell_type": "code",
   "execution_count": 2,
   "metadata": {},
   "outputs": [],
   "source": [
    "import warnings\n",
    "warnings.simplefilter(action='ignore')\n",
    "\n",
    "# Configuramos el formato por defecto de la \n",
    "# librería de visualización Matplotlib.\n",
    "%matplotlib inline\n",
    "%config InlineBackend.figure_format = 'retina'\n",
    "mpl.rcParams['figure.dpi'] = 105\n",
    "mpl.rcParams['figure.figsize'] = (9, 7)"
   ]
  },
  {
   "cell_type": "markdown",
   "metadata": {},
   "source": [
    "## Definiendo una función que será de utilidad a la hora de graficar:"
   ]
  },
  {
   "cell_type": "code",
   "execution_count": 3,
   "metadata": {},
   "outputs": [],
   "source": [
    "def barPerc(df,xVar,ax): #Agregar un porcentaje de matices a los gráficos de barras\n",
    "    numX=len([x for x in df[xVar].unique() if x==x])\n",
    "\n",
    "    bars = ax.patches\n",
    "\n",
    "    for ind in range(numX):\n",
    "    \n",
    "        hueBars=bars[ind:][::numX]\n",
    "        ## Obtiene la altura total para los porcentajes\n",
    "        total = sum([x.get_height() for x in hueBars])\n",
    "\n",
    "        # Imprime el porcentaje de las barras\n",
    "        for bar in hueBars:\n",
    "            ax.text(bar.get_x() + bar.get_width()/2.,\n",
    "                    bar.get_height(),\n",
    "                    f'{bar.get_height()/total:.0%}',\n",
    "                    ha=\"center\",va=\"bottom\")"
   ]
  },
  {
   "cell_type": "markdown",
   "metadata": {},
   "source": [
    "## Cargando y viendo las columnas del DataSet original:"
   ]
  },
  {
   "cell_type": "code",
   "execution_count": 4,
   "metadata": {},
   "outputs": [
    {
     "name": "stdout",
     "output_type": "stream",
     "text": [
      "<class 'pandas.core.frame.DataFrame'>\n",
      "RangeIndex: 97673 entries, 0 to 97672\n",
      "Data columns (total 40 columns):\n",
      " #   Column              Non-Null Count  Dtype  \n",
      "---  ------              --------------  -----  \n",
      " 0   URL                 97673 non-null  object \n",
      " 1   GameType            97673 non-null  object \n",
      " 2   Location            97673 non-null  object \n",
      " 3   Date                97673 non-null  object \n",
      " 4   Time                97673 non-null  object \n",
      " 5   WinningTeam         97673 non-null  object \n",
      " 6   Quarter             97673 non-null  int64  \n",
      " 7   SecLeft             97673 non-null  int64  \n",
      " 8   AwayTeam            97673 non-null  object \n",
      " 9   AwayPlay            49379 non-null  object \n",
      " 10  AwayScore           97673 non-null  int64  \n",
      " 11  HomeTeam            97673 non-null  object \n",
      " 12  HomePlay            48293 non-null  object \n",
      " 13  HomeScore           97673 non-null  int64  \n",
      " 14  Shooter             37074 non-null  object \n",
      " 15  ShotType            37074 non-null  object \n",
      " 16  ShotOutcome         37074 non-null  object \n",
      " 17  ShotDist            37074 non-null  float64\n",
      " 18  Assister            10322 non-null  object \n",
      " 19  Blocker             2112 non-null   object \n",
      " 20  FoulType            8557 non-null   object \n",
      " 21  Fouler              8557 non-null   object \n",
      " 22  Fouled              8396 non-null   object \n",
      " 23  Rebounder           22210 non-null  object \n",
      " 24  ReboundType         22210 non-null  object \n",
      " 25  ViolationPlayer     320 non-null    object \n",
      " 26  ViolationType       320 non-null    object \n",
      " 27  TimeoutTeam         2288 non-null   object \n",
      " 28  FreeThrowShooter    9208 non-null   object \n",
      " 29  FreeThrowOutcome    9208 non-null   object \n",
      " 30  FreeThrowNum        9208 non-null   object \n",
      " 31  EnterGame           9971 non-null   object \n",
      " 32  LeaveGame           9971 non-null   object \n",
      " 33  TurnoverPlayer      6141 non-null   object \n",
      " 34  TurnoverType        6158 non-null   object \n",
      " 35  TurnoverCause       3246 non-null   object \n",
      " 36  TurnoverCauser      3246 non-null   object \n",
      " 37  JumpballAwayPlayer  388 non-null    object \n",
      " 38  JumpballHomePlayer  388 non-null    object \n",
      " 39  JumpballPoss        388 non-null    object \n",
      "dtypes: float64(1), int64(4), object(35)\n",
      "memory usage: 29.8+ MB\n"
     ]
    }
   ],
   "source": [
    "df_original=pd.read_csv('NBA_PBP_2020-21.csv') # Archivo descargado previamente en el pc\n",
    "df_original.info()"
   ]
  },
  {
   "cell_type": "markdown",
   "metadata": {},
   "source": [
    "## Dado a que cada evento es único se procede a eliminar las filas que sean completamente iguales debido a posibles errores de digitación:"
   ]
  },
  {
   "cell_type": "code",
   "execution_count": 5,
   "metadata": {},
   "outputs": [],
   "source": [
    "df_sin_duplicados= df_original.drop_duplicates() #remover filas completamente iguales"
   ]
  },
  {
   "cell_type": "markdown",
   "metadata": {},
   "source": [
    "## Seleccionando los partidos regulares y las columnas necesarias para el análisis:"
   ]
  },
  {
   "cell_type": "code",
   "execution_count": 6,
   "metadata": {},
   "outputs": [
    {
     "name": "stdout",
     "output_type": "stream",
     "text": [
      "Se cuenta con un total de 29 partidos regulares durante lo transcurrido de la temporada\n"
     ]
    }
   ],
   "source": [
    "df_sin_duplicados=df_sin_duplicados[df_sin_duplicados['GameType']=='regular']\n",
    "\n",
    "Columnas = ['Date','WinningTeam','Quarter','SecLeft','AwayTeam','AwayPlay','AwayScore',\n",
    "            'HomeTeam','HomePlay','HomeScore','ShotType','ShotOutcome']\n",
    "\n",
    "df=df_sin_duplicados[Columnas] \n",
    "df=df.reset_index()\n",
    "df=df.drop(columns=['index'])\n",
    "num_allseason=df['Date'].nunique()\n",
    "print('Se cuenta con un total de',num_allseason,'partidos regulares durante lo transcurrido de la temporada')"
   ]
  },
  {
   "cell_type": "markdown",
   "metadata": {},
   "source": [
    "## Viendo la información del dataset con las columnas de interés seleccionadas"
   ]
  },
  {
   "cell_type": "code",
   "execution_count": 7,
   "metadata": {
    "scrolled": true
   },
   "outputs": [
    {
     "name": "stdout",
     "output_type": "stream",
     "text": [
      "<class 'pandas.core.frame.DataFrame'>\n",
      "RangeIndex: 97564 entries, 0 to 97563\n",
      "Data columns (total 12 columns):\n",
      " #   Column       Non-Null Count  Dtype \n",
      "---  ------       --------------  ----- \n",
      " 0   Date         97564 non-null  object\n",
      " 1   WinningTeam  97564 non-null  object\n",
      " 2   Quarter      97564 non-null  int64 \n",
      " 3   SecLeft      97564 non-null  int64 \n",
      " 4   AwayTeam     97564 non-null  object\n",
      " 5   AwayPlay     49326 non-null  object\n",
      " 6   AwayScore    97564 non-null  int64 \n",
      " 7   HomeTeam     97564 non-null  object\n",
      " 8   HomePlay     48237 non-null  object\n",
      " 9   HomeScore    97564 non-null  int64 \n",
      " 10  ShotType     37070 non-null  object\n",
      " 11  ShotOutcome  37070 non-null  object\n",
      "dtypes: int64(4), object(8)\n",
      "memory usage: 8.9+ MB\n"
     ]
    }
   ],
   "source": [
    "df.info()"
   ]
  },
  {
   "cell_type": "code",
   "execution_count": 8,
   "metadata": {},
   "outputs": [],
   "source": [
    "tg=df[df['Date']=='January 3 2021']"
   ]
  },
  {
   "cell_type": "code",
   "execution_count": 9,
   "metadata": {},
   "outputs": [
    {
     "data": {
      "text/plain": [
       "array(['BOS', 'WAS', 'LAL', 'DEN', 'UTA', 'DAL', 'LAC', 'POR'],\n",
       "      dtype=object)"
      ]
     },
     "execution_count": 9,
     "metadata": {},
     "output_type": "execute_result"
    }
   ],
   "source": [
    "tg['AwayTeam'].unique()"
   ]
  },
  {
   "cell_type": "markdown",
   "metadata": {},
   "source": [
    "### Se ve entonces que se pasaron de tener 97673 filas y 41 columnas a 97564 filas y 12 columnas.\n",
    "## <span style=\"color:purple\">Asignando 1 cuando gana LAL y 0 al caso contrario"
   ]
  },
  {
   "cell_type": "code",
   "execution_count": 10,
   "metadata": {},
   "outputs": [],
   "source": [
    "df['W_P']=df['WinningTeam'] #creando una nueva columna "
   ]
  },
  {
   "cell_type": "code",
   "execution_count": 11,
   "metadata": {},
   "outputs": [],
   "source": [
    "df.loc[df.W_P!='LAL', 'W_P'] = 0 \n",
    "df.loc[df.W_P=='LAL', 'W_P'] = 1"
   ]
  },
  {
   "cell_type": "markdown",
   "metadata": {},
   "source": [
    "## Seleccionando los partidos donde participó LAL:"
   ]
  },
  {
   "cell_type": "code",
   "execution_count": 12,
   "metadata": {
    "scrolled": true
   },
   "outputs": [
    {
     "name": "stdout",
     "output_type": "stream",
     "text": [
      "LAL ha jugado \u001b[1;4;30m15\u001b[0m partidos en el transcurso de la temporada, los cuales tuvieron un porcentaje de acierto del \u001b[1;4;30m46.6\u001b[0m % \n",
      " (considerando cestas hechas y erradas por todos los equipos) \n"
     ]
    }
   ],
   "source": [
    "dfl_LAL=df[df['HomeTeam']=='LAL']\n",
    "dfv_LAL=df[df['AwayTeam']=='LAL']\n",
    "df_LAL=pd.concat([dfl_LAL,dfv_LAL])\n",
    "df_LAL=df_LAL.reset_index()  #redefiniendo la cuenta del índice de cada fila\n",
    "\n",
    "num_games=df_LAL['Date'].nunique()\n",
    "P_acierto=df_LAL['ShotOutcome'].value_counts().min()/df_LAL['ShotOutcome'].value_counts().sum()\n",
    "\n",
    "print('LAL ha jugado', black(num_games,['bold','underlined']),'partidos en el transcurso de la temporada, los cuales tuvieron un porcentaje'\n",
    "      ' de acierto del',black(np.round(P_acierto*100,1),['bold','underlined']),'% \\n (considerando cestas hechas y erradas por todos los equipos) ')"
   ]
  },
  {
   "cell_type": "code",
   "execution_count": 13,
   "metadata": {
    "scrolled": true
   },
   "outputs": [
    {
     "name": "stdout",
     "output_type": "stream",
     "text": [
      "<class 'pandas.core.frame.DataFrame'>\n",
      "RangeIndex: 6927 entries, 0 to 6926\n",
      "Data columns (total 14 columns):\n",
      " #   Column       Non-Null Count  Dtype \n",
      "---  ------       --------------  ----- \n",
      " 0   index        6927 non-null   int64 \n",
      " 1   Date         6927 non-null   object\n",
      " 2   WinningTeam  6927 non-null   object\n",
      " 3   Quarter      6927 non-null   int64 \n",
      " 4   SecLeft      6927 non-null   int64 \n",
      " 5   AwayTeam     6927 non-null   object\n",
      " 6   AwayPlay     3465 non-null   object\n",
      " 7   AwayScore    6927 non-null   int64 \n",
      " 8   HomeTeam     6927 non-null   object\n",
      " 9   HomePlay     3462 non-null   object\n",
      " 10  HomeScore    6927 non-null   int64 \n",
      " 11  ShotType     2675 non-null   object\n",
      " 12  ShotOutcome  2675 non-null   object\n",
      " 13  W_P          6927 non-null   object\n",
      "dtypes: int64(5), object(9)\n",
      "memory usage: 757.8+ KB\n"
     ]
    }
   ],
   "source": [
    "df_LAL.info()  "
   ]
  },
  {
   "cell_type": "markdown",
   "metadata": {},
   "source": [
    "## Hallando las probabilidades de ganar para LAL"
   ]
  },
  {
   "cell_type": "code",
   "execution_count": 14,
   "metadata": {},
   "outputs": [
    {
     "name": "stdout",
     "output_type": "stream",
     "text": [
      "En general LAL posee un porcentaje de victorias del \u001b[1;4;30m73.3\u001b[0m %\n",
      "De local LAL posee un porcentaje de victorias del \u001b[1;4;30m50.0\u001b[0m %\n",
      "De visitante LAL posee un porcentaje de victorias del \u001b[1;4;30m100.0\u001b[0m %\n"
     ]
    }
   ],
   "source": [
    "P_All=df_LAL[df_LAL['AwayPlay']=='End of Game']['W_P'].mean()\n",
    "P_l=dfl_LAL[dfl_LAL['AwayPlay']=='End of Game']['W_P'].mean()\n",
    "P_v=dfv_LAL[dfv_LAL['AwayPlay']=='End of Game']['W_P'].mean()\n",
    "\n",
    "print('En general LAL posee un porcentaje de victorias del', black(np.round(P_All*100,1),['bold','underlined']),'%')\n",
    "print('De local LAL posee un porcentaje de victorias del',black(np.round(P_l*100,1),['bold','underlined']),'%')\n",
    "print('De visitante LAL posee un porcentaje de victorias del',black(np.round(P_v*100,1),['bold','underlined']),'%')"
   ]
  },
  {
   "cell_type": "markdown",
   "metadata": {},
   "source": [
    "## Visualizando si el partido fue abierto o cerrado, su fecha y el equipo ganador:"
   ]
  },
  {
   "cell_type": "code",
   "execution_count": 15,
   "metadata": {
    "scrolled": false
   },
   "outputs": [
    {
     "name": "stdout",
     "output_type": "stream",
     "text": [
      "► El partido con \u001b[1;7;36mLAL\u001b[0m de local y \u001b[1;7;36mLAC\u001b[0m de visitante,disputado en: \u001b[1;4;30mDecember 22 2020\u001b[0m fue un  partido \u001b[1;32mcerrado\u001b[0m y ganó \u001b[1;7;35mLAC\u001b[0m \n",
      "\n",
      "► El partido con \u001b[1;7;36mLAL\u001b[0m de local y \u001b[1;7;36mDAL\u001b[0m de visitante,disputado en: \u001b[1;4;30mDecember 25 2020\u001b[0m fue un partido \u001b[1;31mabierto\u001b[0m y ganó \u001b[1;7;35mLAL\u001b[0m \n",
      "\n",
      "► El partido con \u001b[1;7;36mLAL\u001b[0m de local y \u001b[1;7;36mMIN\u001b[0m de visitante,disputado en: \u001b[1;4;30mDecember 27 2020\u001b[0m fue un partido \u001b[1;31mabierto\u001b[0m y ganó \u001b[1;7;35mLAL\u001b[0m \n",
      "\n",
      "► El partido con \u001b[1;7;36mLAL\u001b[0m de local y \u001b[1;7;36mPOR\u001b[0m de visitante,disputado en: \u001b[1;4;30mDecember 28 2020\u001b[0m fue un  partido \u001b[1;32mcerrado\u001b[0m y ganó \u001b[1;7;35mPOR\u001b[0m \n",
      "\n",
      "► El partido con \u001b[1;7;36mLAL\u001b[0m de local y \u001b[1;7;36mSAS\u001b[0m de visitante,disputado en: \u001b[1;4;30mJanuary 7 2021\u001b[0m fue un  partido \u001b[1;32mcerrado\u001b[0m y ganó \u001b[1;7;35mSAS\u001b[0m \n",
      "\n",
      "► El partido con \u001b[1;7;36mLAL\u001b[0m de local y \u001b[1;7;36mCHI\u001b[0m de visitante,disputado en: \u001b[1;4;30mJanuary 8 2021\u001b[0m fue un  partido \u001b[1;32mcerrado\u001b[0m y ganó \u001b[1;7;35mLAL\u001b[0m \n",
      "\n",
      "► El partido con \u001b[1;7;36mLAL\u001b[0m de local y \u001b[1;7;36mGSW\u001b[0m de visitante,disputado en: \u001b[1;4;30mJanuary 18 2021\u001b[0m fue un  partido \u001b[1;32mcerrado\u001b[0m y ganó \u001b[1;7;35mGSW\u001b[0m \n",
      "\n",
      "► El partido con \u001b[1;7;36mLAL\u001b[0m de local y \u001b[1;7;36mNOP\u001b[0m de visitante,disputado en: \u001b[1;4;30mJanuary 15 2021\u001b[0m fue un partido \u001b[1;31mabierto\u001b[0m y ganó \u001b[1;7;35mLAL\u001b[0m \n",
      "\n",
      "► El partido con \u001b[1;7;36mSAS\u001b[0m de local y \u001b[1;7;36mLAL\u001b[0m de visitante,disputado en: \u001b[1;4;30mDecember 30 2020\u001b[0m fue un partido \u001b[1;31mabierto\u001b[0m y ganó \u001b[1;7;35mLAL\u001b[0m \n",
      "\n",
      "► El partido con \u001b[1;7;36mSAS\u001b[0m de local y \u001b[1;7;36mLAL\u001b[0m de visitante,disputado en: \u001b[1;4;30mJanuary 1 2021\u001b[0m fue un  partido \u001b[1;32mcerrado\u001b[0m y ganó \u001b[1;7;35mLAL\u001b[0m \n",
      "\n",
      "► El partido con \u001b[1;7;36mMEM\u001b[0m de local y \u001b[1;7;36mLAL\u001b[0m de visitante,disputado en: \u001b[1;4;30mJanuary 3 2021\u001b[0m fue un partido \u001b[1;31mabierto\u001b[0m y ganó \u001b[1;7;35mLAL\u001b[0m \n",
      "\n",
      "► El partido con \u001b[1;7;36mMEM\u001b[0m de local y \u001b[1;7;36mLAL\u001b[0m de visitante,disputado en: \u001b[1;4;30mJanuary 5 2021\u001b[0m fue un  partido \u001b[1;32mcerrado\u001b[0m y ganó \u001b[1;7;35mLAL\u001b[0m \n",
      "\n",
      "► El partido con \u001b[1;7;36mOKC\u001b[0m de local y \u001b[1;7;36mLAL\u001b[0m de visitante,disputado en: \u001b[1;4;30mJanuary 13 2021\u001b[0m fue un partido \u001b[1;31mabierto\u001b[0m y ganó \u001b[1;7;35mLAL\u001b[0m \n",
      "\n",
      "► El partido con \u001b[1;7;36mHOU\u001b[0m de local y \u001b[1;7;36mLAL\u001b[0m de visitante,disputado en: \u001b[1;4;30mJanuary 10 2021\u001b[0m fue un partido \u001b[1;31mabierto\u001b[0m y ganó \u001b[1;7;35mLAL\u001b[0m \n",
      "\n",
      "► El partido con \u001b[1;7;36mHOU\u001b[0m de local y \u001b[1;7;36mLAL\u001b[0m de visitante,disputado en: \u001b[1;4;30mJanuary 12 2021\u001b[0m fue un partido \u001b[1;31mabierto\u001b[0m y ganó \u001b[1;7;35mLAL\u001b[0m \n",
      "\n"
     ]
    }
   ],
   "source": [
    "df_dif=df_LAL[df_LAL['AwayPlay']=='End of Game']\n",
    "df_dif=df_dif.reset_index()  \n",
    "dif=[]\n",
    "for i in range(num_games):\n",
    "    dif.append(np.abs(df_dif.loc[i,'AwayScore']-df_dif.loc[i,'HomeScore']))\n",
    "for i in range(num_games):\n",
    "    if dif[i]<11:\n",
    "        print('► El partido con',cyan(df_dif.loc[i,'HomeTeam'],['bold','reverse']), 'de' \n",
    "              ' local y',cyan(df_dif.loc[i,'AwayTeam'],['bold','reverse']),'de visitante,'\n",
    "              'disputado en:',black(df_dif.loc[i,'Date'],['bold','underlined']),'fue un '\n",
    "              ' partido', green('cerrado','bold'),'y ganó',magenta(df_dif.loc[i,'WinningTeam'],\n",
    "                                                                  ['bold','reverse']) ,'\\n')\n",
    "    else: \n",
    "        print('► El partido con',cyan(df_dif.loc[i,'HomeTeam'],['bold','reverse']), 'de' \n",
    "              ' local y',cyan(df_dif.loc[i,'AwayTeam'],['bold','reverse']),'de visitante,'\n",
    "              'disputado en:',black(df_dif.loc[i,'Date'],['bold','underlined']),'fue un'\n",
    "              ' partido',   red('abierto','bold'),'y ganó',magenta(df_dif.loc[i,'WinningTeam'],\n",
    "                                                                  ['bold','reverse']) ,'\\n')"
   ]
  },
  {
   "cell_type": "markdown",
   "metadata": {},
   "source": [
    "## Creando un vector que valga 1 cuando gana el equipo local y 0 el caso contrario para los partidos anteriores (en el mismo orden cronológico):"
   ]
  },
  {
   "cell_type": "code",
   "execution_count": 16,
   "metadata": {},
   "outputs": [
    {
     "name": "stdout",
     "output_type": "stream",
     "text": [
      "El vector (y) obtenido tiene las componentes : [0. 1. 1. 0. 0. 1. 0. 1. 0. 0. 0. 0. 0. 0. 0.]\n"
     ]
    }
   ],
   "source": [
    "y=np.zeros(num_games)\n",
    "for i in range(num_games):\n",
    "    y1=(df_dif.loc[i,'HomeScore']-df_dif.loc[i,'AwayScore'])\n",
    "    if y1<0:\n",
    "        y[i]=0\n",
    "    elif y1>0:\n",
    "        y[i]=1\n",
    "print('El vector (y) obtenido tiene las componentes :',y)"
   ]
  },
  {
   "cell_type": "markdown",
   "metadata": {},
   "source": [
    "# <span style=\"color:red\">Los Angeles Lakers (LAL) de local:"
   ]
  },
  {
   "cell_type": "code",
   "execution_count": 17,
   "metadata": {},
   "outputs": [
    {
     "name": "stdout",
     "output_type": "stream",
     "text": [
      "Hubieron 8 partidos donde LAL fue local los cuales tuvieron un porcentaje de acierto del 48.1% \n",
      "(considerando cestas hechas y erradas por ambos equipos) \n"
     ]
    }
   ],
   "source": [
    "dfL_LAL=dfl_LAL  #creando una copia\n",
    "\n",
    "num_local=dfL_LAL['Date'].nunique()  #seleccionando número de fechas o partidos\n",
    "P_acierto_L=dfL_LAL['ShotOutcome'].value_counts().min()/dfL_LAL['ShotOutcome'].value_counts().sum()\n",
    "\n",
    "\n",
    "print(f'Hubieron {num_local} partidos donde LAL fue local los cuales tuvieron un porcentaje de acierto del {np.round(P_acierto_L*100,1)}% \\n' \n",
    "      '(considerando cestas hechas y erradas por ambos equipos) ')"
   ]
  },
  {
   "cell_type": "markdown",
   "metadata": {},
   "source": [
    "## <span style=\"color:red\">Cestas hechas y erradas del equipo local:"
   ]
  },
  {
   "cell_type": "code",
   "execution_count": 18,
   "metadata": {},
   "outputs": [
    {
     "data": {
      "image/png": "[encoded data removed]",
      "text/plain": [
       "<Figure size 1575x945 with 1 Axes>"
      ]
     },
     "metadata": {
      "image/png": {
       "height": 778,
       "width": 1299
      },
      "needs_background": "light"
     },
     "output_type": "display_data"
    }
   ],
   "source": [
    "plt.figure(figsize=[15,9])\n",
    "ax=sns.countplot(x='ShotOutcome',data=dfL_LAL,hue='HomeTeam',palette='bright')\n",
    "barPerc(dfL_LAL,'ShotOutcome',ax)"
   ]
  },
  {
   "cell_type": "markdown",
   "metadata": {},
   "source": [
    "## <span style=\"color:green\">Cestas hechas y erradas de los equipos visitantes:"
   ]
  },
  {
   "cell_type": "code",
   "execution_count": 19,
   "metadata": {
    "scrolled": true
   },
   "outputs": [
    {
     "data": {
      "image/png": "[encoded data removed]",
      "text/plain": [
       "<Figure size 1575x945 with 1 Axes>"
      ]
     },
     "metadata": {
      "image/png": {
       "height": 778,
       "width": 1299
      },
      "needs_background": "light"
     },
     "output_type": "display_data"
    }
   ],
   "source": [
    "plt.figure(figsize=[15,9])\n",
    "ax=sns.countplot(x='ShotOutcome',data=dfL_LAL,hue='AwayTeam',palette='bright')\n",
    "barPerc(dfL_LAL,'ShotOutcome',ax)"
   ]
  },
  {
   "cell_type": "markdown",
   "metadata": {},
   "source": [
    "# <span style=\"color:blue\">Los Angeles Lakers (LAL) de visitante:"
   ]
  },
  {
   "cell_type": "code",
   "execution_count": 20,
   "metadata": {},
   "outputs": [
    {
     "name": "stdout",
     "output_type": "stream",
     "text": [
      "Hubieron 7 partidos donde LAL fue local los cuales tuvieron un porcentaje de acierto del 44.9% \n",
      "(considerando cestas hechas y erradas por ambos equipos) \n"
     ]
    }
   ],
   "source": [
    "dfV_LAL=dfv_LAL\n",
    "\n",
    "num_visitante=dfV_LAL['Date'].nunique()\n",
    "P_acierto_V=dfV_LAL['ShotOutcome'].value_counts().min()/dfV_LAL['ShotOutcome'].value_counts().sum()\n",
    "\n",
    "print(f'Hubieron {num_visitante} partidos donde LAL fue local los cuales tuvieron un porcentaje de acierto del {np.round(P_acierto_V*100,1)}% \\n' \n",
    "      '(considerando cestas hechas y erradas por ambos equipos) ')"
   ]
  },
  {
   "cell_type": "markdown",
   "metadata": {},
   "source": [
    "## <span style=\"color:green\">Cestas hechas y erradas de los equipos locales:"
   ]
  },
  {
   "cell_type": "code",
   "execution_count": 21,
   "metadata": {},
   "outputs": [
    {
     "data": {
      "image/png": "[encoded data removed]",
      "text/plain": [
       "<Figure size 1575x945 with 1 Axes>"
      ]
     },
     "metadata": {
      "image/png": {
       "height": 778,
       "width": 1299
      },
      "needs_background": "light"
     },
     "output_type": "display_data"
    }
   ],
   "source": [
    "plt.figure(figsize=[15,9])\n",
    "ax=sns.countplot(x='ShotOutcome',data=dfV_LAL,hue='HomeTeam',palette='bright')\n",
    "barPerc(dfV_LAL,'ShotOutcome',ax)"
   ]
  },
  {
   "cell_type": "markdown",
   "metadata": {},
   "source": [
    "## <span style=\"color:blue\">Cestas hechas y erradas del equipo visitante:"
   ]
  },
  {
   "cell_type": "code",
   "execution_count": 22,
   "metadata": {},
   "outputs": [
    {
     "data": {
      "image/png": "[encoded data removed]",
      "text/plain": [
       "<Figure size 1575x945 with 1 Axes>"
      ]
     },
     "metadata": {
      "image/png": {
       "height": 778,
       "width": 1299
      },
      "needs_background": "light"
     },
     "output_type": "display_data"
    }
   ],
   "source": [
    "plt.figure(figsize=[15,9])\n",
    "ax=sns.countplot(x='ShotOutcome',data=dfV_LAL,hue='AwayTeam',palette='bright')\n",
    "barPerc(dfV_LAL,'ShotOutcome',ax)"
   ]
  },
  {
   "cell_type": "markdown",
   "metadata": {},
   "source": [
    "## <span style=\"color:purple\"> Normalización y organización del tiempo de manera continua"
   ]
  },
  {
   "cell_type": "markdown",
   "metadata": {},
   "source": [
    "### Para reordenar el tiempo tal que arranque en 0 y no se reinicie la cuenta en cada cuarto se debe modificar la columna 'SecLeft' tal como se hace a continuación:\n",
    "### ▲Se parte el dataframe de acuerdo al número de cuartos \n",
    "### ▲Recordando que cada cuarto contiene 720 segundos y en total el partido tiene 2880 segundos se realiza la conversión temporal y se normalize tal que el partido empieze en 0 y termine en 1, dicha conversión asegura también que el tiempo se ordene de manera continua durante todo el partido"
   ]
  },
  {
   "cell_type": "code",
   "execution_count": 23,
   "metadata": {},
   "outputs": [],
   "source": [
    "df_game1=df_LAL #creando una copia "
   ]
  },
  {
   "cell_type": "code",
   "execution_count": 24,
   "metadata": {},
   "outputs": [],
   "source": [
    "df_game11Q=df_game1[df_game1['Quarter']==1] # Haciendo la conversión temporal para el primer cuarto de juego\n",
    "df_game11Q['SecLeft']=(720-df_game11Q['SecLeft'])/2880\n",
    "\n",
    "df_game12Q=df_game1[df_game1['Quarter']==2] # Haciendo la conversión temporal para el segundo cuarto de juego\n",
    "df_game12Q['SecLeft']=(1440-df_game12Q['SecLeft'])/2880\n",
    "\n",
    "df_game13Q=df_game1[df_game1['Quarter']==3] # Haciendo la conversión temporal para el tercer cuarto de juego\n",
    "df_game13Q['SecLeft']=(2160-df_game13Q['SecLeft'])/2880\n",
    "\n",
    "df_game14Q=df_game1[df_game1['Quarter']==4] # Haciendo la conversión temporal para el cuarto cuarto de juego\n",
    "df_game14Q['SecLeft']=(2880-df_game14Q['SecLeft'])/2880"
   ]
  },
  {
   "cell_type": "markdown",
   "metadata": {},
   "source": [
    "### Juntando las particiones y conversiones hechas:"
   ]
  },
  {
   "cell_type": "code",
   "execution_count": 25,
   "metadata": {},
   "outputs": [],
   "source": [
    "df_game1Q=pd.concat([df_game11Q,df_game12Q,df_game13Q,df_game14Q])\n",
    "df_game1Q=df_game1Q.reset_index()  #redefiniendo la cuenta del índice de cada fila\n",
    "df_game1Q=df_game1Q.drop(columns=['index','level_0'])"
   ]
  },
  {
   "cell_type": "markdown",
   "metadata": {},
   "source": [
    "## Renombrando la columna 'SecLeft' a 'Sec' (haciendo referencia a segundos transcurridos) y viendo los valores de segundos que hay:"
   ]
  },
  {
   "cell_type": "code",
   "execution_count": 26,
   "metadata": {},
   "outputs": [],
   "source": [
    "df_game1Q=df_game1Q.rename(columns={'SecLeft':'Sec'})"
   ]
  },
  {
   "cell_type": "code",
   "execution_count": 27,
   "metadata": {},
   "outputs": [
    {
     "data": {
      "text/plain": [
       "2353"
      ]
     },
     "execution_count": 27,
     "metadata": {},
     "output_type": "execute_result"
    }
   ],
   "source": [
    "df_game1Q['Sec'].nunique()"
   ]
  },
  {
   "cell_type": "markdown",
   "metadata": {},
   "source": [
    "## Seleccionando el final de los tres primeros cuartos con el fin de calcular la diferencia de puntos en cada uno de ellos:"
   ]
  },
  {
   "cell_type": "code",
   "execution_count": 28,
   "metadata": {},
   "outputs": [],
   "source": [
    "df_ejemplo=df_game1Q #Creando una copia\n",
    "df_dif1=df_ejemplo[df_ejemplo['AwayPlay']=='End of 1st quarter']\n",
    "df_dif1=df_dif1.reset_index()  #redefiniendo la cuenta del índice de cada fila\n",
    "\n",
    "df_dif2=df_ejemplo[df_ejemplo['AwayPlay']=='End of 2nd quarter']\n",
    "df_dif2=df_dif2.reset_index()  #redefiniendo la cuenta del índice de cada fila\n",
    "\n",
    "df_dif3=df_ejemplo[df_ejemplo['AwayPlay']=='End of 3rd quarter']\n",
    "df_dif3=df_dif3.reset_index()  #redefiniendo la cuenta del índice de cada fila"
   ]
  },
  {
   "cell_type": "markdown",
   "metadata": {},
   "source": [
    "## Creando un nuevo DataFrame de 60 filas (4 filas para cada partido)"
   ]
  },
  {
   "cell_type": "code",
   "execution_count": 29,
   "metadata": {},
   "outputs": [],
   "source": [
    "df_dif=pd.concat([df_dif1,df_dif2,df_dif3,df_dif3])\n",
    "df_dif=df_dif.reset_index()"
   ]
  },
  {
   "cell_type": "markdown",
   "metadata": {},
   "source": [
    "# <span style=\"color:purple\"> Determinación del arrastre"
   ]
  },
  {
   "cell_type": "markdown",
   "metadata": {},
   "source": [
    "## Ingresando las tasas de apuestas de la casa BET365:"
   ]
  },
  {
   "cell_type": "code",
   "execution_count": 30,
   "metadata": {},
   "outputs": [],
   "source": [
    "T_0=np.array([2.0,6.0,10.5,5.5,8.5,8.5,8.5,8.5,-7.5,-7.5,-10.0,-9.5,-10.5,-3.5,-5.5])         #Inicio del partido\n",
    "T_1=np.array([-11.5,6.5,17.5,9.5,3.5,3.5,15.5,2.5,-10.5,-3.5,-2.5,-4.5,-14.5,-5.5,-19.5])     #Fin del 1er cuarto\n",
    "T_2=np.array([1.5,12.5,21.5,1.5,-1.5,5.5,15.5,5.5,-11.5,-6.5,-8.5,-4.5,-15.5,-15.5,-50.0])    #Fin del 2do cuarto\n",
    "T_3=np.array([-7.5,11.5,35.5,3.5,2.5,6.5,11.5,12.5,-10.5,-2.5,-6.5,-3.5,-22.5,-11.5,-50.0])   #Fin del 3er cuarto"
   ]
  },
  {
   "cell_type": "markdown",
   "metadata": {},
   "source": [
    "## Ordenando las tasas de apuestas con su partido, tiempo y diferencia de puntos:"
   ]
  },
  {
   "cell_type": "code",
   "execution_count": 31,
   "metadata": {},
   "outputs": [],
   "source": [
    "T=np.zeros(num_games*4)    #Tasa de apuesta\n",
    "DIF=np.zeros(num_games*4)  #Diferencia de puntos\n",
    "E=[None] * num_games*4     #Evento\n",
    "S=np.zeros(num_games*4)    #Segundos\n",
    "D=[None] * num_games*4     #Fecha\n",
    "L=[None] * num_games*4     #Local\n",
    "V=[None] * num_games*4     #Visitante\n",
    "\n",
    "for i in range(0,num_games*4,4):\n",
    "    j=float(i)/4\n",
    "    \n",
    "    S[i], E[i],T[i]=0,'Comienzo del partido',T_0[int(j)]\n",
    "    S[i+1], E[i+1],T[i+1]=0.25,'Fin del 1er cuarto',T_1[int(j)]\n",
    "    S[i+2], E[i+2],T[i+2]=0.5,'Fin del 2do cuarto',T_2[int(j)]\n",
    "    S[i+3], E[i+3],T[i+3]=0.75,'Fin del 3er cuarto',T_3[int(j)]\n",
    "    \n",
    "    D[i]=df_dif1.loc[int(j),'Date']\n",
    "    D[i+1],D[i+2],D[i+3]= ' ',' ',' '\n",
    "    \n",
    "    DIF[i+1]=int(df_dif1.loc[int(j),'HomeScore']-df_dif1.loc[int(j),'AwayScore'])\n",
    "    DIF[i+2]=int(df_dif2.loc[int(j),'HomeScore']-df_dif2.loc[int(j),'AwayScore'])\n",
    "    DIF[i+3]=int(df_dif3.loc[int(j),'HomeScore']-df_dif3.loc[int(j),'AwayScore'])\n",
    "    \n",
    "    L[i],V[i]=df_dif1.loc[int(j),'HomeTeam'],df_dif1.loc[int(j),'AwayTeam']\n",
    "    L[i+1], L[i+2], L[i+3]=' ',' ',' '\n",
    "    V[i+1], V[i+2], V[i+3]=' ',' ',' '   "
   ]
  },
  {
   "cell_type": "markdown",
   "metadata": {},
   "source": [
    "## Calculando el parámetro de arrastre"
   ]
  },
  {
   "cell_type": "code",
   "execution_count": 32,
   "metadata": {},
   "outputs": [],
   "source": [
    "u=np.round(-0.885*T,3) #Implementando el parámetro de arrastre"
   ]
  },
  {
   "cell_type": "markdown",
   "metadata": {},
   "source": [
    "## Integrando las columnas anteriores al DataFrame creado recientemente"
   ]
  },
  {
   "cell_type": "code",
   "execution_count": 33,
   "metadata": {},
   "outputs": [],
   "source": [
    "DATE=pd.Series(D)\n",
    "df_dif['Local']=L\n",
    "df_dif['Visitante']=V\n",
    "df_dif['DifScore']=DIF.tolist()\n",
    "df_dif['Evento']=E\n",
    "df_dif['Tiempo']=S.tolist()\n",
    "df_dif['TasaApuesta']=T.tolist()\n",
    "df_dif['Arrastre (u)']=u.tolist()"
   ]
  },
  {
   "cell_type": "markdown",
   "metadata": {},
   "source": [
    "## Tomando las columnas de interés, viendo el DataFrame y la información de este: "
   ]
  },
  {
   "cell_type": "code",
   "execution_count": 34,
   "metadata": {},
   "outputs": [
    {
     "name": "stdout",
     "output_type": "stream",
     "text": [
      "<class 'pandas.core.frame.DataFrame'>\n",
      "Index: 60 entries, December 22 2020 to  \n",
      "Data columns (total 7 columns):\n",
      " #   Column        Non-Null Count  Dtype  \n",
      "---  ------        --------------  -----  \n",
      " 0   Local         60 non-null     object \n",
      " 1   Visitante     60 non-null     object \n",
      " 2   DifScore      60 non-null     float64\n",
      " 3   Evento        60 non-null     object \n",
      " 4   Tiempo        60 non-null     float64\n",
      " 5   TasaApuesta   60 non-null     float64\n",
      " 6   Arrastre (u)  60 non-null     float64\n",
      "dtypes: float64(4), object(3)\n",
      "memory usage: 3.8+ KB\n"
     ]
    }
   ],
   "source": [
    "DF=df_dif[['Local','Visitante','DifScore','Evento','Tiempo','TasaApuesta','Arrastre (u)']]\n",
    "DF=DF.set_index(DATE)\n",
    "DF.info()"
   ]
  },
  {
   "cell_type": "code",
   "execution_count": 35,
   "metadata": {
    "scrolled": false
   },
   "outputs": [
    {
     "data": {
      "text/html": [
       "<div>\n",
       "<style scoped>\n",
       "    .dataframe tbody tr th:only-of-type {\n",
       "        vertical-align: middle;\n",
       "    }\n",
       "\n",
       "    .dataframe tbody tr th {\n",
       "        vertical-align: top;\n",
       "    }\n",
       "\n",
       "    .dataframe thead th {\n",
       "        text-align: right;\n",
       "    }\n",
       "</style>\n",
       "<table border=\"1\" class=\"dataframe\">\n",
       "  <thead>\n",
       "    <tr style=\"text-align: right;\">\n",
       "      <th></th>\n",
       "      <th>Local</th>\n",
       "      <th>Visitante</th>\n",
       "      <th>DifScore</th>\n",
       "      <th>Evento</th>\n",
       "      <th>Tiempo</th>\n",
       "      <th>TasaApuesta</th>\n",
       "      <th>Arrastre (u)</th>\n",
       "    </tr>\n",
       "  </thead>\n",
       "  <tbody>\n",
       "    <tr>\n",
       "      <th>December 22 2020</th>\n",
       "      <td>LAL</td>\n",
       "      <td>LAC</td>\n",
       "      <td>0.0</td>\n",
       "      <td>Comienzo del partido</td>\n",
       "      <td>0.00</td>\n",
       "      <td>2.0</td>\n",
       "      <td>-1.770</td>\n",
       "    </tr>\n",
       "    <tr>\n",
       "      <th></th>\n",
       "      <td></td>\n",
       "      <td></td>\n",
       "      <td>-20.0</td>\n",
       "      <td>Fin del 1er cuarto</td>\n",
       "      <td>0.25</td>\n",
       "      <td>-11.5</td>\n",
       "      <td>10.178</td>\n",
       "    </tr>\n",
       "    <tr>\n",
       "      <th></th>\n",
       "      <td></td>\n",
       "      <td></td>\n",
       "      <td>-2.0</td>\n",
       "      <td>Fin del 2do cuarto</td>\n",
       "      <td>0.50</td>\n",
       "      <td>1.5</td>\n",
       "      <td>-1.328</td>\n",
       "    </tr>\n",
       "    <tr>\n",
       "      <th></th>\n",
       "      <td></td>\n",
       "      <td></td>\n",
       "      <td>-11.0</td>\n",
       "      <td>Fin del 3er cuarto</td>\n",
       "      <td>0.75</td>\n",
       "      <td>-7.5</td>\n",
       "      <td>6.638</td>\n",
       "    </tr>\n",
       "    <tr>\n",
       "      <th>December 25 2020</th>\n",
       "      <td>LAL</td>\n",
       "      <td>DAL</td>\n",
       "      <td>0.0</td>\n",
       "      <td>Comienzo del partido</td>\n",
       "      <td>0.00</td>\n",
       "      <td>6.0</td>\n",
       "      <td>-5.310</td>\n",
       "    </tr>\n",
       "    <tr>\n",
       "      <th></th>\n",
       "      <td></td>\n",
       "      <td></td>\n",
       "      <td>3.0</td>\n",
       "      <td>Fin del 1er cuarto</td>\n",
       "      <td>0.25</td>\n",
       "      <td>6.5</td>\n",
       "      <td>-5.752</td>\n",
       "    </tr>\n",
       "    <tr>\n",
       "      <th></th>\n",
       "      <td></td>\n",
       "      <td></td>\n",
       "      <td>12.0</td>\n",
       "      <td>Fin del 2do cuarto</td>\n",
       "      <td>0.50</td>\n",
       "      <td>12.5</td>\n",
       "      <td>-11.062</td>\n",
       "    </tr>\n",
       "    <tr>\n",
       "      <th></th>\n",
       "      <td></td>\n",
       "      <td></td>\n",
       "      <td>14.0</td>\n",
       "      <td>Fin del 3er cuarto</td>\n",
       "      <td>0.75</td>\n",
       "      <td>11.5</td>\n",
       "      <td>-10.178</td>\n",
       "    </tr>\n",
       "    <tr>\n",
       "      <th>December 27 2020</th>\n",
       "      <td>LAL</td>\n",
       "      <td>MIN</td>\n",
       "      <td>0.0</td>\n",
       "      <td>Comienzo del partido</td>\n",
       "      <td>0.00</td>\n",
       "      <td>10.5</td>\n",
       "      <td>-9.292</td>\n",
       "    </tr>\n",
       "    <tr>\n",
       "      <th></th>\n",
       "      <td></td>\n",
       "      <td></td>\n",
       "      <td>17.0</td>\n",
       "      <td>Fin del 1er cuarto</td>\n",
       "      <td>0.25</td>\n",
       "      <td>17.5</td>\n",
       "      <td>-15.488</td>\n",
       "    </tr>\n",
       "    <tr>\n",
       "      <th></th>\n",
       "      <td></td>\n",
       "      <td></td>\n",
       "      <td>22.0</td>\n",
       "      <td>Fin del 2do cuarto</td>\n",
       "      <td>0.50</td>\n",
       "      <td>21.5</td>\n",
       "      <td>-19.028</td>\n",
       "    </tr>\n",
       "    <tr>\n",
       "      <th></th>\n",
       "      <td></td>\n",
       "      <td></td>\n",
       "      <td>36.0</td>\n",
       "      <td>Fin del 3er cuarto</td>\n",
       "      <td>0.75</td>\n",
       "      <td>35.5</td>\n",
       "      <td>-31.418</td>\n",
       "    </tr>\n",
       "    <tr>\n",
       "      <th>December 28 2020</th>\n",
       "      <td>LAL</td>\n",
       "      <td>POR</td>\n",
       "      <td>0.0</td>\n",
       "      <td>Comienzo del partido</td>\n",
       "      <td>0.00</td>\n",
       "      <td>5.5</td>\n",
       "      <td>-4.868</td>\n",
       "    </tr>\n",
       "    <tr>\n",
       "      <th></th>\n",
       "      <td></td>\n",
       "      <td></td>\n",
       "      <td>8.0</td>\n",
       "      <td>Fin del 1er cuarto</td>\n",
       "      <td>0.25</td>\n",
       "      <td>9.5</td>\n",
       "      <td>-8.408</td>\n",
       "    </tr>\n",
       "    <tr>\n",
       "      <th></th>\n",
       "      <td></td>\n",
       "      <td></td>\n",
       "      <td>-4.0</td>\n",
       "      <td>Fin del 2do cuarto</td>\n",
       "      <td>0.50</td>\n",
       "      <td>1.5</td>\n",
       "      <td>-1.328</td>\n",
       "    </tr>\n",
       "    <tr>\n",
       "      <th></th>\n",
       "      <td></td>\n",
       "      <td></td>\n",
       "      <td>1.0</td>\n",
       "      <td>Fin del 3er cuarto</td>\n",
       "      <td>0.75</td>\n",
       "      <td>3.5</td>\n",
       "      <td>-3.098</td>\n",
       "    </tr>\n",
       "    <tr>\n",
       "      <th>January 7 2021</th>\n",
       "      <td>LAL</td>\n",
       "      <td>SAS</td>\n",
       "      <td>0.0</td>\n",
       "      <td>Comienzo del partido</td>\n",
       "      <td>0.00</td>\n",
       "      <td>8.5</td>\n",
       "      <td>-7.522</td>\n",
       "    </tr>\n",
       "    <tr>\n",
       "      <th></th>\n",
       "      <td></td>\n",
       "      <td></td>\n",
       "      <td>-8.0</td>\n",
       "      <td>Fin del 1er cuarto</td>\n",
       "      <td>0.25</td>\n",
       "      <td>3.5</td>\n",
       "      <td>-3.098</td>\n",
       "    </tr>\n",
       "    <tr>\n",
       "      <th></th>\n",
       "      <td></td>\n",
       "      <td></td>\n",
       "      <td>-9.0</td>\n",
       "      <td>Fin del 2do cuarto</td>\n",
       "      <td>0.50</td>\n",
       "      <td>-1.5</td>\n",
       "      <td>1.328</td>\n",
       "    </tr>\n",
       "    <tr>\n",
       "      <th></th>\n",
       "      <td></td>\n",
       "      <td></td>\n",
       "      <td>-2.0</td>\n",
       "      <td>Fin del 3er cuarto</td>\n",
       "      <td>0.75</td>\n",
       "      <td>2.5</td>\n",
       "      <td>-2.212</td>\n",
       "    </tr>\n",
       "    <tr>\n",
       "      <th>January 8 2021</th>\n",
       "      <td>LAL</td>\n",
       "      <td>CHI</td>\n",
       "      <td>0.0</td>\n",
       "      <td>Comienzo del partido</td>\n",
       "      <td>0.00</td>\n",
       "      <td>8.5</td>\n",
       "      <td>-7.522</td>\n",
       "    </tr>\n",
       "    <tr>\n",
       "      <th></th>\n",
       "      <td></td>\n",
       "      <td></td>\n",
       "      <td>-5.0</td>\n",
       "      <td>Fin del 1er cuarto</td>\n",
       "      <td>0.25</td>\n",
       "      <td>3.5</td>\n",
       "      <td>-3.098</td>\n",
       "    </tr>\n",
       "    <tr>\n",
       "      <th></th>\n",
       "      <td></td>\n",
       "      <td></td>\n",
       "      <td>1.0</td>\n",
       "      <td>Fin del 2do cuarto</td>\n",
       "      <td>0.50</td>\n",
       "      <td>5.5</td>\n",
       "      <td>-4.868</td>\n",
       "    </tr>\n",
       "    <tr>\n",
       "      <th></th>\n",
       "      <td></td>\n",
       "      <td></td>\n",
       "      <td>4.0</td>\n",
       "      <td>Fin del 3er cuarto</td>\n",
       "      <td>0.75</td>\n",
       "      <td>6.5</td>\n",
       "      <td>-5.752</td>\n",
       "    </tr>\n",
       "    <tr>\n",
       "      <th>January 18 2021</th>\n",
       "      <td>LAL</td>\n",
       "      <td>GSW</td>\n",
       "      <td>0.0</td>\n",
       "      <td>Comienzo del partido</td>\n",
       "      <td>0.00</td>\n",
       "      <td>8.5</td>\n",
       "      <td>-7.522</td>\n",
       "    </tr>\n",
       "    <tr>\n",
       "      <th></th>\n",
       "      <td></td>\n",
       "      <td></td>\n",
       "      <td>12.0</td>\n",
       "      <td>Fin del 1er cuarto</td>\n",
       "      <td>0.25</td>\n",
       "      <td>15.5</td>\n",
       "      <td>-13.718</td>\n",
       "    </tr>\n",
       "    <tr>\n",
       "      <th></th>\n",
       "      <td></td>\n",
       "      <td></td>\n",
       "      <td>16.0</td>\n",
       "      <td>Fin del 2do cuarto</td>\n",
       "      <td>0.50</td>\n",
       "      <td>15.5</td>\n",
       "      <td>-13.718</td>\n",
       "    </tr>\n",
       "    <tr>\n",
       "      <th></th>\n",
       "      <td></td>\n",
       "      <td></td>\n",
       "      <td>11.0</td>\n",
       "      <td>Fin del 3er cuarto</td>\n",
       "      <td>0.75</td>\n",
       "      <td>11.5</td>\n",
       "      <td>-10.178</td>\n",
       "    </tr>\n",
       "    <tr>\n",
       "      <th>January 15 2021</th>\n",
       "      <td>LAL</td>\n",
       "      <td>NOP</td>\n",
       "      <td>0.0</td>\n",
       "      <td>Comienzo del partido</td>\n",
       "      <td>0.00</td>\n",
       "      <td>8.5</td>\n",
       "      <td>-7.522</td>\n",
       "    </tr>\n",
       "    <tr>\n",
       "      <th></th>\n",
       "      <td></td>\n",
       "      <td></td>\n",
       "      <td>-8.0</td>\n",
       "      <td>Fin del 1er cuarto</td>\n",
       "      <td>0.25</td>\n",
       "      <td>2.5</td>\n",
       "      <td>-2.212</td>\n",
       "    </tr>\n",
       "    <tr>\n",
       "      <th></th>\n",
       "      <td></td>\n",
       "      <td></td>\n",
       "      <td>-1.0</td>\n",
       "      <td>Fin del 2do cuarto</td>\n",
       "      <td>0.50</td>\n",
       "      <td>5.5</td>\n",
       "      <td>-4.868</td>\n",
       "    </tr>\n",
       "    <tr>\n",
       "      <th></th>\n",
       "      <td></td>\n",
       "      <td></td>\n",
       "      <td>10.0</td>\n",
       "      <td>Fin del 3er cuarto</td>\n",
       "      <td>0.75</td>\n",
       "      <td>12.5</td>\n",
       "      <td>-11.062</td>\n",
       "    </tr>\n",
       "    <tr>\n",
       "      <th>December 30 2020</th>\n",
       "      <td>SAS</td>\n",
       "      <td>LAL</td>\n",
       "      <td>0.0</td>\n",
       "      <td>Comienzo del partido</td>\n",
       "      <td>0.00</td>\n",
       "      <td>-7.5</td>\n",
       "      <td>6.638</td>\n",
       "    </tr>\n",
       "    <tr>\n",
       "      <th></th>\n",
       "      <td></td>\n",
       "      <td></td>\n",
       "      <td>-8.0</td>\n",
       "      <td>Fin del 1er cuarto</td>\n",
       "      <td>0.25</td>\n",
       "      <td>-10.5</td>\n",
       "      <td>9.292</td>\n",
       "    </tr>\n",
       "    <tr>\n",
       "      <th></th>\n",
       "      <td></td>\n",
       "      <td></td>\n",
       "      <td>-10.0</td>\n",
       "      <td>Fin del 2do cuarto</td>\n",
       "      <td>0.50</td>\n",
       "      <td>-11.5</td>\n",
       "      <td>10.178</td>\n",
       "    </tr>\n",
       "    <tr>\n",
       "      <th></th>\n",
       "      <td></td>\n",
       "      <td></td>\n",
       "      <td>-10.0</td>\n",
       "      <td>Fin del 3er cuarto</td>\n",
       "      <td>0.75</td>\n",
       "      <td>-10.5</td>\n",
       "      <td>9.292</td>\n",
       "    </tr>\n",
       "    <tr>\n",
       "      <th>January 1 2021</th>\n",
       "      <td>SAS</td>\n",
       "      <td>LAL</td>\n",
       "      <td>0.0</td>\n",
       "      <td>Comienzo del partido</td>\n",
       "      <td>0.00</td>\n",
       "      <td>-7.5</td>\n",
       "      <td>6.638</td>\n",
       "    </tr>\n",
       "    <tr>\n",
       "      <th></th>\n",
       "      <td></td>\n",
       "      <td></td>\n",
       "      <td>6.0</td>\n",
       "      <td>Fin del 1er cuarto</td>\n",
       "      <td>0.25</td>\n",
       "      <td>-3.5</td>\n",
       "      <td>3.098</td>\n",
       "    </tr>\n",
       "    <tr>\n",
       "      <th></th>\n",
       "      <td></td>\n",
       "      <td></td>\n",
       "      <td>-1.0</td>\n",
       "      <td>Fin del 2do cuarto</td>\n",
       "      <td>0.50</td>\n",
       "      <td>-6.5</td>\n",
       "      <td>5.752</td>\n",
       "    </tr>\n",
       "    <tr>\n",
       "      <th></th>\n",
       "      <td></td>\n",
       "      <td></td>\n",
       "      <td>4.0</td>\n",
       "      <td>Fin del 3er cuarto</td>\n",
       "      <td>0.75</td>\n",
       "      <td>-2.5</td>\n",
       "      <td>2.212</td>\n",
       "    </tr>\n",
       "    <tr>\n",
       "      <th>January 3 2021</th>\n",
       "      <td>MEM</td>\n",
       "      <td>LAL</td>\n",
       "      <td>0.0</td>\n",
       "      <td>Comienzo del partido</td>\n",
       "      <td>0.00</td>\n",
       "      <td>-10.0</td>\n",
       "      <td>8.850</td>\n",
       "    </tr>\n",
       "    <tr>\n",
       "      <th></th>\n",
       "      <td></td>\n",
       "      <td></td>\n",
       "      <td>11.0</td>\n",
       "      <td>Fin del 1er cuarto</td>\n",
       "      <td>0.25</td>\n",
       "      <td>-2.5</td>\n",
       "      <td>2.212</td>\n",
       "    </tr>\n",
       "    <tr>\n",
       "      <th></th>\n",
       "      <td></td>\n",
       "      <td></td>\n",
       "      <td>-2.0</td>\n",
       "      <td>Fin del 2do cuarto</td>\n",
       "      <td>0.50</td>\n",
       "      <td>-8.5</td>\n",
       "      <td>7.522</td>\n",
       "    </tr>\n",
       "    <tr>\n",
       "      <th></th>\n",
       "      <td></td>\n",
       "      <td></td>\n",
       "      <td>-2.0</td>\n",
       "      <td>Fin del 3er cuarto</td>\n",
       "      <td>0.75</td>\n",
       "      <td>-6.5</td>\n",
       "      <td>5.752</td>\n",
       "    </tr>\n",
       "    <tr>\n",
       "      <th>January 5 2021</th>\n",
       "      <td>MEM</td>\n",
       "      <td>LAL</td>\n",
       "      <td>0.0</td>\n",
       "      <td>Comienzo del partido</td>\n",
       "      <td>0.00</td>\n",
       "      <td>-9.5</td>\n",
       "      <td>8.408</td>\n",
       "    </tr>\n",
       "    <tr>\n",
       "      <th></th>\n",
       "      <td></td>\n",
       "      <td></td>\n",
       "      <td>5.0</td>\n",
       "      <td>Fin del 1er cuarto</td>\n",
       "      <td>0.25</td>\n",
       "      <td>-4.5</td>\n",
       "      <td>3.982</td>\n",
       "    </tr>\n",
       "    <tr>\n",
       "      <th></th>\n",
       "      <td></td>\n",
       "      <td></td>\n",
       "      <td>4.0</td>\n",
       "      <td>Fin del 2do cuarto</td>\n",
       "      <td>0.50</td>\n",
       "      <td>-4.5</td>\n",
       "      <td>3.982</td>\n",
       "    </tr>\n",
       "    <tr>\n",
       "      <th></th>\n",
       "      <td></td>\n",
       "      <td></td>\n",
       "      <td>1.0</td>\n",
       "      <td>Fin del 3er cuarto</td>\n",
       "      <td>0.75</td>\n",
       "      <td>-3.5</td>\n",
       "      <td>3.098</td>\n",
       "    </tr>\n",
       "    <tr>\n",
       "      <th>January 13 2021</th>\n",
       "      <td>OKC</td>\n",
       "      <td>LAL</td>\n",
       "      <td>0.0</td>\n",
       "      <td>Comienzo del partido</td>\n",
       "      <td>0.00</td>\n",
       "      <td>-10.5</td>\n",
       "      <td>9.292</td>\n",
       "    </tr>\n",
       "    <tr>\n",
       "      <th></th>\n",
       "      <td></td>\n",
       "      <td></td>\n",
       "      <td>-9.0</td>\n",
       "      <td>Fin del 1er cuarto</td>\n",
       "      <td>0.25</td>\n",
       "      <td>-14.5</td>\n",
       "      <td>12.832</td>\n",
       "    </tr>\n",
       "    <tr>\n",
       "      <th></th>\n",
       "      <td></td>\n",
       "      <td></td>\n",
       "      <td>-12.0</td>\n",
       "      <td>Fin del 2do cuarto</td>\n",
       "      <td>0.50</td>\n",
       "      <td>-15.5</td>\n",
       "      <td>13.718</td>\n",
       "    </tr>\n",
       "    <tr>\n",
       "      <th></th>\n",
       "      <td></td>\n",
       "      <td></td>\n",
       "      <td>-22.0</td>\n",
       "      <td>Fin del 3er cuarto</td>\n",
       "      <td>0.75</td>\n",
       "      <td>-22.5</td>\n",
       "      <td>19.912</td>\n",
       "    </tr>\n",
       "    <tr>\n",
       "      <th>January 10 2021</th>\n",
       "      <td>HOU</td>\n",
       "      <td>LAL</td>\n",
       "      <td>0.0</td>\n",
       "      <td>Comienzo del partido</td>\n",
       "      <td>0.00</td>\n",
       "      <td>-3.5</td>\n",
       "      <td>3.098</td>\n",
       "    </tr>\n",
       "    <tr>\n",
       "      <th></th>\n",
       "      <td></td>\n",
       "      <td></td>\n",
       "      <td>-4.0</td>\n",
       "      <td>Fin del 1er cuarto</td>\n",
       "      <td>0.25</td>\n",
       "      <td>-5.5</td>\n",
       "      <td>4.868</td>\n",
       "    </tr>\n",
       "    <tr>\n",
       "      <th></th>\n",
       "      <td></td>\n",
       "      <td></td>\n",
       "      <td>-19.0</td>\n",
       "      <td>Fin del 2do cuarto</td>\n",
       "      <td>0.50</td>\n",
       "      <td>-15.5</td>\n",
       "      <td>13.718</td>\n",
       "    </tr>\n",
       "    <tr>\n",
       "      <th></th>\n",
       "      <td></td>\n",
       "      <td></td>\n",
       "      <td>-13.0</td>\n",
       "      <td>Fin del 3er cuarto</td>\n",
       "      <td>0.75</td>\n",
       "      <td>-11.5</td>\n",
       "      <td>10.178</td>\n",
       "    </tr>\n",
       "    <tr>\n",
       "      <th>January 12 2021</th>\n",
       "      <td>HOU</td>\n",
       "      <td>LAL</td>\n",
       "      <td>0.0</td>\n",
       "      <td>Comienzo del partido</td>\n",
       "      <td>0.00</td>\n",
       "      <td>-5.5</td>\n",
       "      <td>4.868</td>\n",
       "    </tr>\n",
       "    <tr>\n",
       "      <th></th>\n",
       "      <td></td>\n",
       "      <td></td>\n",
       "      <td>-21.0</td>\n",
       "      <td>Fin del 1er cuarto</td>\n",
       "      <td>0.25</td>\n",
       "      <td>-19.5</td>\n",
       "      <td>17.258</td>\n",
       "    </tr>\n",
       "    <tr>\n",
       "      <th></th>\n",
       "      <td></td>\n",
       "      <td></td>\n",
       "      <td>-23.0</td>\n",
       "      <td>Fin del 2do cuarto</td>\n",
       "      <td>0.50</td>\n",
       "      <td>-50.0</td>\n",
       "      <td>44.250</td>\n",
       "    </tr>\n",
       "    <tr>\n",
       "      <th></th>\n",
       "      <td></td>\n",
       "      <td></td>\n",
       "      <td>-26.0</td>\n",
       "      <td>Fin del 3er cuarto</td>\n",
       "      <td>0.75</td>\n",
       "      <td>-50.0</td>\n",
       "      <td>44.250</td>\n",
       "    </tr>\n",
       "  </tbody>\n",
       "</table>\n",
       "</div>"
      ],
      "text/plain": [
       "                 Local Visitante  DifScore                Evento  Tiempo  \\\n",
       "December 22 2020   LAL       LAC       0.0  Comienzo del partido    0.00   \n",
       "                                     -20.0    Fin del 1er cuarto    0.25   \n",
       "                                      -2.0    Fin del 2do cuarto    0.50   \n",
       "                                     -11.0    Fin del 3er cuarto    0.75   \n",
       "December 25 2020   LAL       DAL       0.0  Comienzo del partido    0.00   \n",
       "                                       3.0    Fin del 1er cuarto    0.25   \n",
       "                                      12.0    Fin del 2do cuarto    0.50   \n",
       "                                      14.0    Fin del 3er cuarto    0.75   \n",
       "December 27 2020   LAL       MIN       0.0  Comienzo del partido    0.00   \n",
       "                                      17.0    Fin del 1er cuarto    0.25   \n",
       "                                      22.0    Fin del 2do cuarto    0.50   \n",
       "                                      36.0    Fin del 3er cuarto    0.75   \n",
       "December 28 2020   LAL       POR       0.0  Comienzo del partido    0.00   \n",
       "                                       8.0    Fin del 1er cuarto    0.25   \n",
       "                                      -4.0    Fin del 2do cuarto    0.50   \n",
       "                                       1.0    Fin del 3er cuarto    0.75   \n",
       "January 7 2021     LAL       SAS       0.0  Comienzo del partido    0.00   \n",
       "                                      -8.0    Fin del 1er cuarto    0.25   \n",
       "                                      -9.0    Fin del 2do cuarto    0.50   \n",
       "                                      -2.0    Fin del 3er cuarto    0.75   \n",
       "January 8 2021     LAL       CHI       0.0  Comienzo del partido    0.00   \n",
       "                                      -5.0    Fin del 1er cuarto    0.25   \n",
       "                                       1.0    Fin del 2do cuarto    0.50   \n",
       "                                       4.0    Fin del 3er cuarto    0.75   \n",
       "January 18 2021    LAL       GSW       0.0  Comienzo del partido    0.00   \n",
       "                                      12.0    Fin del 1er cuarto    0.25   \n",
       "                                      16.0    Fin del 2do cuarto    0.50   \n",
       "                                      11.0    Fin del 3er cuarto    0.75   \n",
       "January 15 2021    LAL       NOP       0.0  Comienzo del partido    0.00   \n",
       "                                      -8.0    Fin del 1er cuarto    0.25   \n",
       "                                      -1.0    Fin del 2do cuarto    0.50   \n",
       "                                      10.0    Fin del 3er cuarto    0.75   \n",
       "December 30 2020   SAS       LAL       0.0  Comienzo del partido    0.00   \n",
       "                                      -8.0    Fin del 1er cuarto    0.25   \n",
       "                                     -10.0    Fin del 2do cuarto    0.50   \n",
       "                                     -10.0    Fin del 3er cuarto    0.75   \n",
       "January 1 2021     SAS       LAL       0.0  Comienzo del partido    0.00   \n",
       "                                       6.0    Fin del 1er cuarto    0.25   \n",
       "                                      -1.0    Fin del 2do cuarto    0.50   \n",
       "                                       4.0    Fin del 3er cuarto    0.75   \n",
       "January 3 2021     MEM       LAL       0.0  Comienzo del partido    0.00   \n",
       "                                      11.0    Fin del 1er cuarto    0.25   \n",
       "                                      -2.0    Fin del 2do cuarto    0.50   \n",
       "                                      -2.0    Fin del 3er cuarto    0.75   \n",
       "January 5 2021     MEM       LAL       0.0  Comienzo del partido    0.00   \n",
       "                                       5.0    Fin del 1er cuarto    0.25   \n",
       "                                       4.0    Fin del 2do cuarto    0.50   \n",
       "                                       1.0    Fin del 3er cuarto    0.75   \n",
       "January 13 2021    OKC       LAL       0.0  Comienzo del partido    0.00   \n",
       "                                      -9.0    Fin del 1er cuarto    0.25   \n",
       "                                     -12.0    Fin del 2do cuarto    0.50   \n",
       "                                     -22.0    Fin del 3er cuarto    0.75   \n",
       "January 10 2021    HOU       LAL       0.0  Comienzo del partido    0.00   \n",
       "                                      -4.0    Fin del 1er cuarto    0.25   \n",
       "                                     -19.0    Fin del 2do cuarto    0.50   \n",
       "                                     -13.0    Fin del 3er cuarto    0.75   \n",
       "January 12 2021    HOU       LAL       0.0  Comienzo del partido    0.00   \n",
       "                                     -21.0    Fin del 1er cuarto    0.25   \n",
       "                                     -23.0    Fin del 2do cuarto    0.50   \n",
       "                                     -26.0    Fin del 3er cuarto    0.75   \n",
       "\n",
       "                  TasaApuesta  Arrastre (u)  \n",
       "December 22 2020          2.0        -1.770  \n",
       "                        -11.5        10.178  \n",
       "                          1.5        -1.328  \n",
       "                         -7.5         6.638  \n",
       "December 25 2020          6.0        -5.310  \n",
       "                          6.5        -5.752  \n",
       "                         12.5       -11.062  \n",
       "                         11.5       -10.178  \n",
       "December 27 2020         10.5        -9.292  \n",
       "                         17.5       -15.488  \n",
       "                         21.5       -19.028  \n",
       "                         35.5       -31.418  \n",
       "December 28 2020          5.5        -4.868  \n",
       "                          9.5        -8.408  \n",
       "                          1.5        -1.328  \n",
       "                          3.5        -3.098  \n",
       "January 7 2021            8.5        -7.522  \n",
       "                          3.5        -3.098  \n",
       "                         -1.5         1.328  \n",
       "                          2.5        -2.212  \n",
       "January 8 2021            8.5        -7.522  \n",
       "                          3.5        -3.098  \n",
       "                          5.5        -4.868  \n",
       "                          6.5        -5.752  \n",
       "January 18 2021           8.5        -7.522  \n",
       "                         15.5       -13.718  \n",
       "                         15.5       -13.718  \n",
       "                         11.5       -10.178  \n",
       "January 15 2021           8.5        -7.522  \n",
       "                          2.5        -2.212  \n",
       "                          5.5        -4.868  \n",
       "                         12.5       -11.062  \n",
       "December 30 2020         -7.5         6.638  \n",
       "                        -10.5         9.292  \n",
       "                        -11.5        10.178  \n",
       "                        -10.5         9.292  \n",
       "January 1 2021           -7.5         6.638  \n",
       "                         -3.5         3.098  \n",
       "                         -6.5         5.752  \n",
       "                         -2.5         2.212  \n",
       "January 3 2021          -10.0         8.850  \n",
       "                         -2.5         2.212  \n",
       "                         -8.5         7.522  \n",
       "                         -6.5         5.752  \n",
       "January 5 2021           -9.5         8.408  \n",
       "                         -4.5         3.982  \n",
       "                         -4.5         3.982  \n",
       "                         -3.5         3.098  \n",
       "January 13 2021         -10.5         9.292  \n",
       "                        -14.5        12.832  \n",
       "                        -15.5        13.718  \n",
       "                        -22.5        19.912  \n",
       "January 10 2021          -3.5         3.098  \n",
       "                         -5.5         4.868  \n",
       "                        -15.5        13.718  \n",
       "                        -11.5        10.178  \n",
       "January 12 2021          -5.5         4.868  \n",
       "                        -19.5        17.258  \n",
       "                        -50.0        44.250  \n",
       "                        -50.0        44.250  "
      ]
     },
     "execution_count": 35,
     "metadata": {},
     "output_type": "execute_result"
    }
   ],
   "source": [
    "DF"
   ]
  },
  {
   "cell_type": "markdown",
   "metadata": {},
   "source": [
    "# <span style=\"color:purple\"> Definición de las funciones a usar"
   ]
  },
  {
   "cell_type": "markdown",
   "metadata": {},
   "source": [
    "## Creando inicialmente dichas funciones como matrices vacías:"
   ]
  },
  {
   "cell_type": "code",
   "execution_count": 36,
   "metadata": {},
   "outputs": [],
   "source": [
    "a=np.zeros((4,num_games))        #coeficientes\n",
    "f=np.zeros((3,num_games))        #f\n",
    "phi=np.zeros((3,num_games))      #phi"
   ]
  },
  {
   "cell_type": "markdown",
   "metadata": {},
   "source": [
    "# <span style=\"color:purple\">Método Newton Rhapson para determinar desviación estandar (sigma)"
   ]
  },
  {
   "cell_type": "code",
   "execution_count": 37,
   "metadata": {},
   "outputs": [
    {
     "name": "stdout",
     "output_type": "stream",
     "text": [
      "Iteración 5 se obtuvo: sigma=23.856\n"
     ]
    }
   ],
   "source": [
    "error,l,MaxIter=1,1,100 #parámetros a usar\n",
    "sigma=np.pi #punto medio del intervalo a usar\n",
    "y=np.array([1,1,1,0,0,1,0,1,0,0,0,0,0,0,0])\n",
    "k =np.linspace(-150,100,2000)\n",
    "\n",
    "\n",
    "while error<7 and l<MaxIter:\n",
    "    #Calculando el coeficiente a\n",
    "    for j in range(num_games):   #índice para los partidos\n",
    "        for i in range(4):       #índice para los cuartos de juego\n",
    "            a[i][j]=(DIF[4*j+i]+(1-(i/4))*u[4*j+i])/(np.sqrt(\n",
    "                (1-(i/4))*sigma**2))\n",
    "            \n",
    "    #calculando f\n",
    "    for j in range(num_games):   #índice para los partidos\n",
    "        for i in range(1,4):     #índice para los cuartos de juego\n",
    "            t=float(i)/4         #tiempo \n",
    "            f[i-1][j]=(1/((sigma)*np.sqrt(\n",
    "                2*np.pi*t)))*np.exp(-((a[i][j]-t*u[4*j+i])**2)/(2*t*sigma**2))\n",
    "   \n",
    "    #calculando la función de distribución acumulada (phi)\n",
    "    for j in range(num_games):\n",
    "        for i in range(1,4):\n",
    "            def prueba(k):\n",
    "                return np.exp(-((k-u[4*j+i])**2)/(2*sigma**2))\n",
    "            qt1, err = quad(prueba, -150, a[i][j])\n",
    "            phi[i-1][j]=qt1*(1/((sigma)*np.sqrt(2*np.pi)))\n",
    "    \n",
    "    def grad(sigma): #función a la cual se le busca hallar la raíz\n",
    "        grad=0\n",
    "        for j in range(num_games-4): #seleccionando partidos de entrenamiento\n",
    "            for i in range(1,4):\n",
    "                grad1=(1/sigma**2)*(a[i][j]*f[i-1][j])*(\n",
    "                    phi[i-1][j]-y[j])/(phi[i-1][j]*(1-phi[i-1][j]))\n",
    "                grad=grad+grad1   \n",
    "        return grad\n",
    "    \n",
    "    #Derivada numérica de la función grad(x)\n",
    "    def df(x):\n",
    "        h=10**(-8) \n",
    "        return (grad(x+h)-grad(x))/h\n",
    "    \n",
    "    x1=sigma-grad(sigma)/df(sigma)\n",
    "    error=np.abs(x1-sigma)\n",
    "    sigma=x1\n",
    "    l=l+1\n",
    "print('Iteración',l-1,f'se obtuvo: sigma={np.round(sigma,3)}')"
   ]
  },
  {
   "cell_type": "markdown",
   "metadata": {},
   "source": [
    "# <span style=\"color:purple\"> Aplicación de los parámetros obtenidos"
   ]
  },
  {
   "cell_type": "markdown",
   "metadata": {},
   "source": [
    "## Usando la desviación estandar obtenida para hallar  $\\Phi$ en los partidos de prueba:"
   ]
  },
  {
   "cell_type": "code",
   "execution_count": 38,
   "metadata": {},
   "outputs": [],
   "source": [
    "phi_test=np.zeros((3,4)) #4 partidos de prueba"
   ]
  },
  {
   "cell_type": "code",
   "execution_count": 39,
   "metadata": {},
   "outputs": [],
   "source": [
    "for j in range(11,num_games):\n",
    "    for i in range(1,4):\n",
    "        def prueba(k):\n",
    "            return np.exp(-((k-u[4*j+i])**2)/(2*sigma**2))\n",
    "        qt1, err = quad(prueba, -150, a[i][j])\n",
    "        l=int(float(j)-11)\n",
    "        phi_test[i-1][l]=qt1*(1/((sigma)*np.sqrt(2*np.pi)))"
   ]
  },
  {
   "cell_type": "markdown",
   "metadata": {},
   "source": [
    "## Probabilidad de que gane el local para los partidos de prueba:"
   ]
  },
  {
   "cell_type": "code",
   "execution_count": 40,
   "metadata": {},
   "outputs": [
    {
     "data": {
      "text/plain": [
       "array([[0.44329934, 0.29598464, 0.41874082, 0.22725172],\n",
       "       [0.4425194 , 0.27619442, 0.26753825, 0.0315771 ],\n",
       "       [0.45204107, 0.17764305, 0.31499256, 0.02658231]])"
      ]
     },
     "execution_count": 40,
     "metadata": {},
     "output_type": "execute_result"
    }
   ],
   "source": [
    "phi_test"
   ]
  },
  {
   "cell_type": "markdown",
   "metadata": {},
   "source": [
    "## Probabilidad de que gane el visitante para los partidos de prueba:"
   ]
  },
  {
   "cell_type": "code",
   "execution_count": 41,
   "metadata": {},
   "outputs": [
    {
     "data": {
      "text/plain": [
       "array([[0.55670066, 0.70401536, 0.58125918, 0.77274828],\n",
       "       [0.5574806 , 0.72380558, 0.73246175, 0.9684229 ],\n",
       "       [0.54795893, 0.82235695, 0.68500744, 0.97341769]])"
      ]
     },
     "execution_count": 41,
     "metadata": {},
     "output_type": "execute_result"
    }
   ],
   "source": [
    "1-phi_test"
   ]
  },
  {
   "cell_type": "markdown",
   "metadata": {},
   "source": [
    "## Calculando los coeficientes de Brier"
   ]
  },
  {
   "cell_type": "code",
   "execution_count": 42,
   "metadata": {},
   "outputs": [],
   "source": [
    "brier=np.zeros((3,4)) #matriz vacia de coeficientes de Brier"
   ]
  },
  {
   "cell_type": "code",
   "execution_count": 43,
   "metadata": {},
   "outputs": [],
   "source": [
    "for i in range(3):\n",
    "    for j in range(4):\n",
    "        brier[i][j]=(1/3)*np.abs(phi_test[i][j])**2"
   ]
  },
  {
   "cell_type": "code",
   "execution_count": 44,
   "metadata": {},
   "outputs": [
    {
     "data": {
      "text/plain": [
       "array([[0.06550477, 0.0292023 , 0.05844796, 0.01721445],\n",
       "       [0.06527447, 0.02542779, 0.0238589 , 0.00033237],\n",
       "       [0.06811371, 0.01051902, 0.03307344, 0.00023554]])"
      ]
     },
     "execution_count": 44,
     "metadata": {},
     "output_type": "execute_result"
    }
   ],
   "source": [
    "brier "
   ]
  },
  {
   "cell_type": "markdown",
   "metadata": {},
   "source": [
    "# <span style=\"color:purple\"> Probando para un partido extra (Brooklyn Nets vs Washington Wizards)"
   ]
  },
  {
   "cell_type": "markdown",
   "metadata": {},
   "source": [
    "## Usando la desviación estandar obtenida para hallar  $\\Phi$ en el partido extra:"
   ]
  },
  {
   "cell_type": "code",
   "execution_count": 45,
   "metadata": {},
   "outputs": [],
   "source": [
    "T_b=np.array([7.5,5.5,6.5,3.5])  #Tasas de apuestas\n",
    "u_b=np.round(-0.885*T_b,3)       #Implementando el parámetro de arrastre\n",
    "\n",
    "DIF_b=np.array([0,-1,3,-1])      #Diferencia de puntos"
   ]
  },
  {
   "cell_type": "code",
   "execution_count": 46,
   "metadata": {},
   "outputs": [],
   "source": [
    "a_b=np.zeros((4,1))         #coeficientes\n",
    "phi_b=np.zeros((3,1))       #phi\n",
    "phi_test_b=np.zeros((3,1))  #4 partidos de prueba"
   ]
  },
  {
   "cell_type": "code",
   "execution_count": 47,
   "metadata": {},
   "outputs": [],
   "source": [
    "for j in range(1):\n",
    "        for i in range(4):\n",
    "            a_b[i][j]=(DIF_b[4*j+i]+(1-(i/4))*u_b[4*j+i])/(np.sqrt((1-(i/4))*sigma**2))"
   ]
  },
  {
   "cell_type": "code",
   "execution_count": 48,
   "metadata": {},
   "outputs": [],
   "source": [
    "for j in range(1):\n",
    "    for i in range(1,4):\n",
    "        def prueba(k):\n",
    "            return np.exp(-((k-u_b[4*j+i])**2)/(2*sigma**2))\n",
    "        qt1, err = quad(prueba, -150, a_b[i][j])\n",
    "        l=int(j)\n",
    "        phi_test_b[i-1][l]=qt1*(1/((sigma)*np.sqrt(2*np.pi)))"
   ]
  },
  {
   "cell_type": "markdown",
   "metadata": {},
   "source": [
    "## Probabilidad de que gane el local para el partido extra:"
   ]
  },
  {
   "cell_type": "code",
   "execution_count": 49,
   "metadata": {},
   "outputs": [
    {
     "data": {
      "text/plain": [
       "array([[0.57715374],\n",
       "       [0.59538393],\n",
       "       [0.54919356]])"
      ]
     },
     "execution_count": 49,
     "metadata": {},
     "output_type": "execute_result"
    }
   ],
   "source": [
    "phi_test_b #probabilidades para el local partido extra"
   ]
  },
  {
   "cell_type": "markdown",
   "metadata": {},
   "source": [
    "## Probabilidad de que gane el local para el partido extra:"
   ]
  },
  {
   "cell_type": "code",
   "execution_count": 50,
   "metadata": {},
   "outputs": [
    {
     "data": {
      "text/plain": [
       "array([[0.42284626],\n",
       "       [0.40461607],\n",
       "       [0.45080644]])"
      ]
     },
     "execution_count": 50,
     "metadata": {},
     "output_type": "execute_result"
    }
   ],
   "source": [
    "1-phi_test_b"
   ]
  },
  {
   "cell_type": "markdown",
   "metadata": {},
   "source": [
    "## Calculando los coeficientes de Brier"
   ]
  },
  {
   "cell_type": "code",
   "execution_count": 51,
   "metadata": {},
   "outputs": [],
   "source": [
    "brier_b=np.zeros((3,1)) #matriz vacia de puntajes de Brier"
   ]
  },
  {
   "cell_type": "code",
   "execution_count": 52,
   "metadata": {},
   "outputs": [],
   "source": [
    "for i in range(3):\n",
    "    for j in range(1):\n",
    "        brier_b[i][j]=(1/3)*np.abs(phi_test_b[i][j])**2"
   ]
  },
  {
   "cell_type": "code",
   "execution_count": 53,
   "metadata": {},
   "outputs": [
    {
     "data": {
      "text/plain": [
       "array([[0.11103548],\n",
       "       [0.11816068],\n",
       "       [0.10053786]])"
      ]
     },
     "execution_count": 53,
     "metadata": {},
     "output_type": "execute_result"
    }
   ],
   "source": [
    "brier_b  #puntajes de brier"
   ]
  }
 ],
 "metadata": {
  "kernelspec": {
   "display_name": "Python 3",
   "language": "python",
   "name": "python3"
  },
  "language_info": {
   "codemirror_mode": {
    "name": "ipython",
    "version": 3
   },
   "file_extension": ".py",
   "mimetype": "text/x-python",
   "name": "python",
   "nbconvert_exporter": "python",
   "pygments_lexer": "ipython3",
   "version": "3.8.10"
  }
 },
 "nbformat": 4,
 "nbformat_minor": 4
}
